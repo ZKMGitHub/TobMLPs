{
 "cells": [
  {
   "cell_type": "code",
   "execution_count": 1,
   "id": "949228cd-5827-4bcf-880b-e35337c97ced",
   "metadata": {},
   "outputs": [],
   "source": [
    "from ase import Atoms, io\n",
    "import torch\n",
    "import schnetpack as spk\n",
    "from schnetpack.data import AtomsDataModule\n",
    "from schnetpack.datasets import MD17\n",
    "import schnetpack.transform as trn\n",
    "\n",
    "device = torch.device(\"cuda\")"
   ]
  },
  {
   "cell_type": "code",
   "execution_count": 2,
   "id": "78dd6e11-228b-47da-ad4d-2edf997fdc28",
   "metadata": {},
   "outputs": [],
   "source": [
    "model_path = \"best_model\"\n",
    "best_model = torch.load(model_path, map_location=device)"
   ]
  },
  {
   "cell_type": "code",
   "execution_count": 3,
   "id": "98a76db0-03f7-4f6e-ade3-ef3485349a5c",
   "metadata": {},
   "outputs": [
    {
     "name": "stderr",
     "output_type": "stream",
     "text": [
      "INFO:schnetpack.interfaces.ase_interface:Loading model from best_model\n"
     ]
    }
   ],
   "source": [
    "molecule_path = 'tob11.xyz'\n",
    "ase_dir = './'\n",
    "model_path = \"best_model\"\n",
    "\n",
    "tob9_ase = spk.interfaces.AseInterface(\n",
    "    molecule_path,\n",
    "    ase_dir,\n",
    "    model_file=model_path,\n",
    "    neighbor_list=trn.ASENeighborList(cutoff=4.0),\n",
    "    energy_key=MD17.energy,\n",
    "    force_key=MD17.forces,\n",
    "    energy_unit=\"eV\",\n",
    "    position_unit=\"Ang\",\n",
    "    device=\"cuda\",\n",
    "    dtype=torch.float64,\n",
    ")"
   ]
  },
  {
   "cell_type": "code",
   "execution_count": 4,
   "id": "5cf06c45-5416-4578-9e1e-a5dbb55b1f96",
   "metadata": {
    "scrolled": true
   },
   "outputs": [
    {
     "name": "stdout",
     "output_type": "stream",
     "text": [
      "                Step[ FC]     Time          Energy          fmax\n",
      "BFGSLineSearch:    0[  0] 01:18:55     -570.900911        4.0317\n",
      "BFGSLineSearch:    1[  2] 01:18:56     -573.199390        2.2323\n",
      "BFGSLineSearch:    2[  4] 01:18:57     -574.327414        2.6956\n",
      "BFGSLineSearch:    3[  6] 01:18:58     -575.069694        1.1412\n",
      "BFGSLineSearch:    4[  8] 01:18:59     -575.440117        1.4121\n",
      "BFGSLineSearch:    5[ 10] 01:19:00     -575.913388        1.4392\n",
      "BFGSLineSearch:    6[ 12] 01:19:02     -576.227323        0.8980\n",
      "BFGSLineSearch:    7[ 14] 01:19:03     -576.486436        0.9796\n",
      "BFGSLineSearch:    8[ 16] 01:19:04     -576.644005        0.6419\n",
      "BFGSLineSearch:    9[ 18] 01:19:05     -576.787585        0.8725\n",
      "BFGSLineSearch:   10[ 20] 01:19:06     -576.935652        0.6798\n",
      "BFGSLineSearch:   11[ 22] 01:19:08     -577.051191        0.5531\n",
      "BFGSLineSearch:   12[ 24] 01:19:09     -577.135032        0.5754\n",
      "BFGSLineSearch:   13[ 26] 01:19:10     -577.205678        0.6273\n",
      "BFGSLineSearch:   14[ 28] 01:19:11     -577.300681        0.5680\n",
      "BFGSLineSearch:   15[ 30] 01:19:12     -577.361729        0.3688\n",
      "BFGSLineSearch:   16[ 32] 01:19:13     -577.412364        0.4210\n",
      "BFGSLineSearch:   17[ 34] 01:19:15     -577.448702        0.4418\n",
      "BFGSLineSearch:   18[ 36] 01:19:16     -577.482744        0.3682\n",
      "BFGSLineSearch:   19[ 38] 01:19:17     -577.502731        0.3563\n",
      "BFGSLineSearch:   20[ 40] 01:19:18     -577.533653        0.3801\n",
      "BFGSLineSearch:   21[ 42] 01:19:19     -577.554358        0.2050\n",
      "BFGSLineSearch:   22[ 44] 01:19:21     -577.567054        0.2341\n",
      "BFGSLineSearch:   23[ 46] 01:19:22     -577.583205        0.2188\n",
      "BFGSLineSearch:   24[ 48] 01:19:23     -577.594285        0.1975\n",
      "BFGSLineSearch:   25[ 50] 01:19:24     -577.604871        0.2040\n",
      "BFGSLineSearch:   26[ 52] 01:19:25     -577.614475        0.1644\n",
      "BFGSLineSearch:   27[ 54] 01:19:27     -577.622594        0.1725\n",
      "BFGSLineSearch:   28[ 56] 01:19:28     -577.627706        0.1269\n",
      "BFGSLineSearch:   29[ 58] 01:19:30     -577.634284        0.1741\n",
      "BFGSLineSearch:   30[ 60] 01:19:31     -577.639197        0.1686\n",
      "BFGSLineSearch:   31[ 62] 01:19:32     -577.644458        0.1542\n",
      "BFGSLineSearch:   32[ 64] 01:19:33     -577.649975        0.1984\n",
      "BFGSLineSearch:   33[ 66] 01:19:35     -577.655991        0.2902\n",
      "BFGSLineSearch:   34[ 68] 01:19:36     -577.662175        0.2084\n",
      "BFGSLineSearch:   35[ 70] 01:19:37     -577.666144        0.1823\n",
      "BFGSLineSearch:   36[ 72] 01:19:38     -577.673805        0.1064\n",
      "BFGSLineSearch:   37[ 74] 01:19:40     -577.678019        0.1014\n",
      "BFGSLineSearch:   38[ 76] 01:19:41     -577.683432        0.1760\n",
      "BFGSLineSearch:   39[ 78] 01:19:42     -577.687614        0.1948\n",
      "BFGSLineSearch:   40[ 80] 01:19:44     -577.691796        0.1240\n",
      "BFGSLineSearch:   41[ 82] 01:19:45     -577.694808        0.1060\n",
      "BFGSLineSearch:   42[ 84] 01:19:46     -577.699085        0.1248\n",
      "BFGSLineSearch:   43[ 86] 01:19:47     -577.702997        0.0937\n",
      "BFGSLineSearch:   44[ 88] 01:19:49     -577.706059        0.1384\n",
      "BFGSLineSearch:   45[ 90] 01:19:50     -577.709677        0.1130\n",
      "BFGSLineSearch:   46[ 92] 01:19:51     -577.713207        0.1462\n",
      "BFGSLineSearch:   47[ 94] 01:19:53     -577.716358        0.1246\n",
      "BFGSLineSearch:   48[ 96] 01:19:54     -577.719021        0.1041\n",
      "BFGSLineSearch:   49[ 98] 01:19:55     -577.722741        0.2583\n",
      "BFGSLineSearch:   50[100] 01:19:56     -577.725920        0.1164\n",
      "BFGSLineSearch:   51[102] 01:19:58     -577.728589        0.1187\n",
      "BFGSLineSearch:   52[104] 01:19:59     -577.731890        0.1333\n",
      "BFGSLineSearch:   53[106] 01:20:00     -577.733869        0.1233\n",
      "BFGSLineSearch:   54[108] 01:20:02     -577.736096        0.1239\n",
      "BFGSLineSearch:   55[110] 01:20:03     -577.738016        0.1471\n",
      "BFGSLineSearch:   56[112] 01:20:04     -577.740600        0.0859\n",
      "BFGSLineSearch:   57[114] 01:20:06     -577.742459        0.0677\n",
      "BFGSLineSearch:   58[116] 01:20:07     -577.744324        0.0921\n",
      "BFGSLineSearch:   59[118] 01:20:08     -577.745986        0.0791\n",
      "BFGSLineSearch:   60[120] 01:20:10     -577.747421        0.1030\n",
      "BFGSLineSearch:   61[122] 01:20:11     -577.748918        0.0923\n",
      "BFGSLineSearch:   62[124] 01:20:12     -577.750819        0.0782\n",
      "BFGSLineSearch:   63[126] 01:20:14     -577.752056        0.0751\n",
      "BFGSLineSearch:   64[128] 01:20:15     -577.753387        0.0518\n",
      "BFGSLineSearch:   65[130] 01:20:16     -577.754108        0.0562\n",
      "BFGSLineSearch:   66[132] 01:20:17     -577.754757        0.0589\n",
      "BFGSLineSearch:   67[134] 01:20:19     -577.755600        0.0716\n",
      "BFGSLineSearch:   68[136] 01:20:20     -577.756221        0.0462\n",
      "BFGSLineSearch:   69[138] 01:20:21     -577.756913        0.0591\n",
      "BFGSLineSearch:   70[140] 01:20:23     -577.757405        0.0395\n",
      "BFGSLineSearch:   71[142] 01:20:24     -577.757932        0.0451\n",
      "BFGSLineSearch:   72[144] 01:20:25     -577.758360        0.0556\n",
      "BFGSLineSearch:   73[146] 01:20:26     -577.758856        0.0375\n",
      "BFGSLineSearch:   74[148] 01:20:27     -577.759244        0.0463\n",
      "BFGSLineSearch:   75[150] 01:20:28     -577.759769        0.0443\n",
      "BFGSLineSearch:   76[152] 01:20:29     -577.760285        0.0457\n",
      "BFGSLineSearch:   77[154] 01:20:30     -577.761001        0.0648\n",
      "BFGSLineSearch:   78[155] 01:20:31     -577.761749        0.0989\n",
      "BFGSLineSearch:   79[157] 01:20:33     -577.762773        0.0768\n",
      "BFGSLineSearch:   80[159] 01:20:34     -577.764147        0.0610\n",
      "BFGSLineSearch:   81[161] 01:20:35     -577.764987        0.0891\n",
      "BFGSLineSearch:   82[163] 01:20:36     -577.766712        0.1064\n",
      "BFGSLineSearch:   83[165] 01:20:38     -577.768069        0.0820\n",
      "BFGSLineSearch:   84[167] 01:20:39     -577.769966        0.1233\n",
      "BFGSLineSearch:   85[169] 01:20:40     -577.771648        0.0862\n",
      "BFGSLineSearch:   86[171] 01:20:41     -577.773670        0.1021\n",
      "BFGSLineSearch:   87[173] 01:20:43     -577.775104        0.1007\n",
      "BFGSLineSearch:   88[175] 01:20:44     -577.777893        0.1194\n",
      "BFGSLineSearch:   89[177] 01:20:45     -577.779502        0.1480\n",
      "BFGSLineSearch:   90[179] 01:20:46     -577.781974        0.0795\n",
      "BFGSLineSearch:   91[181] 01:20:47     -577.783172        0.1320\n",
      "BFGSLineSearch:   92[183] 01:20:49     -577.785553        0.0828\n",
      "BFGSLineSearch:   93[185] 01:20:50     -577.786893        0.0901\n",
      "BFGSLineSearch:   94[187] 01:20:51     -577.788498        0.0788\n",
      "BFGSLineSearch:   95[189] 01:20:52     -577.789776        0.1543\n",
      "BFGSLineSearch:   96[191] 01:20:53     -577.790901        0.0681\n",
      "BFGSLineSearch:   97[193] 01:20:54     -577.791995        0.0560\n",
      "BFGSLineSearch:   98[195] 01:20:56     -577.793107        0.0721\n",
      "BFGSLineSearch:   99[197] 01:20:57     -577.793752        0.0784\n",
      "BFGSLineSearch:  100[199] 01:20:58     -577.794749        0.0799\n",
      "BFGSLineSearch:  101[201] 01:20:59     -577.795248        0.0578\n",
      "BFGSLineSearch:  102[203] 01:21:01     -577.795945        0.0930\n",
      "BFGSLineSearch:  103[204] 01:21:02     -577.796517        0.0818\n",
      "BFGSLineSearch:  104[206] 01:21:03     -577.797005        0.0721\n",
      "BFGSLineSearch:  105[208] 01:21:05     -577.797566        0.0776\n",
      "BFGSLineSearch:  106[209] 01:21:06     -577.798024        0.0520\n",
      "BFGSLineSearch:  107[211] 01:21:07     -577.798327        0.0376\n",
      "BFGSLineSearch:  108[212] 01:21:08     -577.798894        0.0478\n",
      "BFGSLineSearch:  109[214] 01:21:10     -577.799166        0.0416\n",
      "BFGSLineSearch:  110[215] 01:21:11     -577.799630        0.0431\n",
      "BFGSLineSearch:  111[217] 01:21:12     -577.799879        0.0463\n",
      "BFGSLineSearch:  112[219] 01:21:13     -577.800433        0.0360\n",
      "BFGSLineSearch:  113[220] 01:21:14     -577.800912        0.0554\n",
      "BFGSLineSearch:  114[222] 01:21:15     -577.801227        0.0345\n",
      "BFGSLineSearch:  115[223] 01:21:16     -577.801806        0.0342\n",
      "BFGSLineSearch:  116[225] 01:21:18     -577.801930        0.0327\n",
      "BFGSLineSearch:  117[227] 01:21:19     -577.802237        0.0191\n",
      "BFGSLineSearch:  118[228] 01:21:20     -577.802451        0.0380\n",
      "BFGSLineSearch:  119[230] 01:21:21     -577.802657        0.0337\n",
      "BFGSLineSearch:  120[231] 01:21:22     -577.802899        0.0141\n",
      "BFGSLineSearch:  121[232] 01:21:24     -577.803082        0.0303\n",
      "BFGSLineSearch:  122[234] 01:21:25     -577.803217        0.0203\n",
      "BFGSLineSearch:  123[236] 01:21:26     -577.803453        0.0196\n",
      "BFGSLineSearch:  124[238] 01:21:27     -577.803526        0.0260\n",
      "BFGSLineSearch:  125[239] 01:21:28     -577.803725        0.0263\n",
      "BFGSLineSearch:  126[241] 01:21:30     -577.803964        0.0329\n",
      "BFGSLineSearch:  127[243] 01:21:31     -577.804028        0.0192\n",
      "BFGSLineSearch:  128[244] 01:21:32     -577.804194        0.0166\n",
      "BFGSLineSearch:  129[246] 01:21:33     -577.804417        0.0196\n",
      "BFGSLineSearch:  130[248] 01:21:34     -577.804667        0.0257\n",
      "BFGSLineSearch:  131[249] 01:21:35     -577.804844        0.0093\n"
     ]
    },
    {
     "name": "stderr",
     "output_type": "stream",
     "text": [
      "/home/zkm/.local/lib/python3.8/site-packages/ase/io/extxyz.py:1000: UserWarning: write_xyz() overwriting array \"forces\" present in atoms.arrays with stored results from calculator\n",
      "  warnings.warn('write_xyz() overwriting array \"{0}\" present '\n"
     ]
    }
   ],
   "source": [
    "tob9_ase.optimize(fmax=1e-2)"
   ]
  },
  {
   "cell_type": "code",
   "execution_count": 5,
   "id": "52d3c00e-5ffc-498b-a0e6-e4ab4a5affcf",
   "metadata": {},
   "outputs": [
    {
     "name": "stderr",
     "output_type": "stream",
     "text": [
      "INFO:schnetpack.interfaces.ase_interface:Loading model from best_model\n"
     ]
    },
    {
     "name": "stdout",
     "output_type": "stream",
     "text": [
      "rm: cannot remove './simulation_300K.log': No such file or directory\n",
      "rm: cannot remove './simulation_300K.traj': No such file or directory\n"
     ]
    },
    {
     "name": "stderr",
     "output_type": "stream",
     "text": [
      "/home/zkm/.local/lib/python3.8/site-packages/ase/md/md.py:48: FutureWarning: Specify the temperature in K using the 'temperature_K' argument\n",
      "  warnings.warn(FutureWarning(w))\n",
      "/home/zkm/.local/lib/python3.8/site-packages/ase/neighborlist.py:282: RuntimeWarning: invalid value encountered in cast\n",
      "  bin_index_ic = np.floor(scaled_positions_ic*nbins_c).astype(int)\n"
     ]
    },
    {
     "ename": "KeyboardInterrupt",
     "evalue": "",
     "output_type": "error",
     "traceback": [
      "\u001b[0;31m---------------------------------------------------------------------------\u001b[0m",
      "\u001b[0;31mKeyboardInterrupt\u001b[0m                         Traceback (most recent call last)",
      "Cell \u001b[0;32mIn[5], line 30\u001b[0m\n\u001b[1;32m     19\u001b[0m get_ipython()\u001b[38;5;241m.\u001b[39msystem(\u001b[38;5;124m\"\u001b[39m\u001b[38;5;124mrm \u001b[39m\u001b[38;5;124m'\u001b[39m\u001b[38;5;124m./simulation_300K.traj\u001b[39m\u001b[38;5;124m'\u001b[39m\u001b[38;5;124m\"\u001b[39m)\n\u001b[1;32m     21\u001b[0m tob9_op_ase\u001b[38;5;241m.\u001b[39minit_md(\n\u001b[1;32m     22\u001b[0m     \u001b[38;5;124m'\u001b[39m\u001b[38;5;124msimulation_300K\u001b[39m\u001b[38;5;124m'\u001b[39m,\n\u001b[1;32m     23\u001b[0m     time_step\u001b[38;5;241m=\u001b[39m\u001b[38;5;241m0.5\u001b[39m, \u001b[38;5;66;03m#fs\u001b[39;00m\n\u001b[0;32m   (...)\u001b[0m\n\u001b[1;32m     27\u001b[0m     interval\u001b[38;5;241m=\u001b[39m\u001b[38;5;241m100\u001b[39m\n\u001b[1;32m     28\u001b[0m )\n\u001b[0;32m---> 30\u001b[0m \u001b[43mtob9_op_ase\u001b[49m\u001b[38;5;241;43m.\u001b[39;49m\u001b[43mrun_md\u001b[49m\u001b[43m(\u001b[49m\u001b[38;5;241;43m1000000\u001b[39;49m\u001b[43m)\u001b[49m\n",
      "File \u001b[0;32m~/anaconda3/envs/schnet/lib/python3.8/site-packages/schnetpack/interfaces/ase_interface.py:534\u001b[0m, in \u001b[0;36mAseInterface.run_md\u001b[0;34m(self, steps)\u001b[0m\n\u001b[1;32m    529\u001b[0m \u001b[38;5;28;01mif\u001b[39;00m \u001b[38;5;129;01mnot\u001b[39;00m \u001b[38;5;28mself\u001b[39m\u001b[38;5;241m.\u001b[39mdynamics:\n\u001b[1;32m    530\u001b[0m     \u001b[38;5;28;01mraise\u001b[39;00m \u001b[38;5;167;01mAttributeError\u001b[39;00m(\n\u001b[1;32m    531\u001b[0m         \u001b[38;5;124m\"\u001b[39m\u001b[38;5;124mDynamics need to be initialized using the\u001b[39m\u001b[38;5;124m\"\u001b[39m \u001b[38;5;124m\"\u001b[39m\u001b[38;5;124m \u001b[39m\u001b[38;5;124m'\u001b[39m\u001b[38;5;124msetup_md\u001b[39m\u001b[38;5;124m'\u001b[39m\u001b[38;5;124m function\u001b[39m\u001b[38;5;124m\"\u001b[39m\n\u001b[1;32m    532\u001b[0m     )\n\u001b[0;32m--> 534\u001b[0m \u001b[38;5;28;43mself\u001b[39;49m\u001b[38;5;241;43m.\u001b[39;49m\u001b[43mdynamics\u001b[49m\u001b[38;5;241;43m.\u001b[39;49m\u001b[43mrun\u001b[49m\u001b[43m(\u001b[49m\u001b[43msteps\u001b[49m\u001b[43m)\u001b[49m\n",
      "File \u001b[0;32m~/.local/lib/python3.8/site-packages/ase/md/md.py:137\u001b[0m, in \u001b[0;36mMolecularDynamics.run\u001b[0;34m(self, steps)\u001b[0m\n\u001b[1;32m    135\u001b[0m \u001b[38;5;250m\u001b[39m\u001b[38;5;124;03m\"\"\" Call Dynamics.run and adjust max_steps \"\"\"\u001b[39;00m\n\u001b[1;32m    136\u001b[0m \u001b[38;5;28mself\u001b[39m\u001b[38;5;241m.\u001b[39mmax_steps \u001b[38;5;241m=\u001b[39m steps \u001b[38;5;241m+\u001b[39m \u001b[38;5;28mself\u001b[39m\u001b[38;5;241m.\u001b[39mnsteps\n\u001b[0;32m--> 137\u001b[0m \u001b[38;5;28;01mreturn\u001b[39;00m \u001b[43mDynamics\u001b[49m\u001b[38;5;241;43m.\u001b[39;49m\u001b[43mrun\u001b[49m\u001b[43m(\u001b[49m\u001b[38;5;28;43mself\u001b[39;49m\u001b[43m)\u001b[49m\n",
      "File \u001b[0;32m~/.local/lib/python3.8/site-packages/ase/optimize/optimize.py:156\u001b[0m, in \u001b[0;36mDynamics.run\u001b[0;34m(self)\u001b[0m\n\u001b[1;32m    149\u001b[0m \u001b[38;5;28;01mdef\u001b[39;00m \u001b[38;5;21mrun\u001b[39m(\u001b[38;5;28mself\u001b[39m):\n\u001b[1;32m    150\u001b[0m \u001b[38;5;250m    \u001b[39m\u001b[38;5;124;03m\"\"\"Run dynamics algorithm.\u001b[39;00m\n\u001b[1;32m    151\u001b[0m \n\u001b[1;32m    152\u001b[0m \u001b[38;5;124;03m    This method will return when the forces on all individual\u001b[39;00m\n\u001b[1;32m    153\u001b[0m \u001b[38;5;124;03m    atoms are less than *fmax* or when the number of steps exceeds\u001b[39;00m\n\u001b[1;32m    154\u001b[0m \u001b[38;5;124;03m    *steps*.\"\"\"\u001b[39;00m\n\u001b[0;32m--> 156\u001b[0m     \u001b[38;5;28;01mfor\u001b[39;00m converged \u001b[38;5;129;01min\u001b[39;00m Dynamics\u001b[38;5;241m.\u001b[39mirun(\u001b[38;5;28mself\u001b[39m):\n\u001b[1;32m    157\u001b[0m         \u001b[38;5;28;01mpass\u001b[39;00m\n\u001b[1;32m    158\u001b[0m     \u001b[38;5;28;01mreturn\u001b[39;00m converged\n",
      "File \u001b[0;32m~/.local/lib/python3.8/site-packages/ase/optimize/optimize.py:135\u001b[0m, in \u001b[0;36mDynamics.irun\u001b[0;34m(self)\u001b[0m\n\u001b[1;32m    131\u001b[0m \u001b[38;5;66;03m# run the algorithm until converged or max_steps reached\u001b[39;00m\n\u001b[1;32m    132\u001b[0m \u001b[38;5;28;01mwhile\u001b[39;00m \u001b[38;5;129;01mnot\u001b[39;00m \u001b[38;5;28mself\u001b[39m\u001b[38;5;241m.\u001b[39mconverged() \u001b[38;5;129;01mand\u001b[39;00m \u001b[38;5;28mself\u001b[39m\u001b[38;5;241m.\u001b[39mnsteps \u001b[38;5;241m<\u001b[39m \u001b[38;5;28mself\u001b[39m\u001b[38;5;241m.\u001b[39mmax_steps:\n\u001b[1;32m    133\u001b[0m \n\u001b[1;32m    134\u001b[0m     \u001b[38;5;66;03m# compute the next step\u001b[39;00m\n\u001b[0;32m--> 135\u001b[0m     \u001b[38;5;28;43mself\u001b[39;49m\u001b[38;5;241;43m.\u001b[39;49m\u001b[43mstep\u001b[49m\u001b[43m(\u001b[49m\u001b[43m)\u001b[49m\n\u001b[1;32m    136\u001b[0m     \u001b[38;5;28mself\u001b[39m\u001b[38;5;241m.\u001b[39mnsteps \u001b[38;5;241m+\u001b[39m\u001b[38;5;241m=\u001b[39m \u001b[38;5;241m1\u001b[39m\n\u001b[1;32m    138\u001b[0m     \u001b[38;5;66;03m# let the user inspect the step and change things before logging\u001b[39;00m\n\u001b[1;32m    139\u001b[0m     \u001b[38;5;66;03m# and predicting the next step\u001b[39;00m\n",
      "File \u001b[0;32m~/.local/lib/python3.8/site-packages/ase/md/langevin.py:171\u001b[0m, in \u001b[0;36mLangevin.step\u001b[0;34m(self, forces)\u001b[0m\n\u001b[1;32m    168\u001b[0m \u001b[38;5;66;03m# recalc velocities after RATTLE constraints are applied\u001b[39;00m\n\u001b[1;32m    169\u001b[0m \u001b[38;5;28mself\u001b[39m\u001b[38;5;241m.\u001b[39mv \u001b[38;5;241m=\u001b[39m (\u001b[38;5;28mself\u001b[39m\u001b[38;5;241m.\u001b[39matoms\u001b[38;5;241m.\u001b[39mget_positions() \u001b[38;5;241m-\u001b[39m x \u001b[38;5;241m-\u001b[39m\n\u001b[1;32m    170\u001b[0m           \u001b[38;5;28mself\u001b[39m\u001b[38;5;241m.\u001b[39mc5 \u001b[38;5;241m*\u001b[39m \u001b[38;5;28mself\u001b[39m\u001b[38;5;241m.\u001b[39meta) \u001b[38;5;241m/\u001b[39m \u001b[38;5;28mself\u001b[39m\u001b[38;5;241m.\u001b[39mdt\n\u001b[0;32m--> 171\u001b[0m forces \u001b[38;5;241m=\u001b[39m \u001b[43matoms\u001b[49m\u001b[38;5;241;43m.\u001b[39;49m\u001b[43mget_forces\u001b[49m\u001b[43m(\u001b[49m\u001b[43mmd\u001b[49m\u001b[38;5;241;43m=\u001b[39;49m\u001b[38;5;28;43;01mTrue\u001b[39;49;00m\u001b[43m)\u001b[49m\n\u001b[1;32m    173\u001b[0m \u001b[38;5;66;03m# Update the velocities\u001b[39;00m\n\u001b[1;32m    174\u001b[0m \u001b[38;5;28mself\u001b[39m\u001b[38;5;241m.\u001b[39mv \u001b[38;5;241m+\u001b[39m\u001b[38;5;241m=\u001b[39m (\u001b[38;5;28mself\u001b[39m\u001b[38;5;241m.\u001b[39mc1 \u001b[38;5;241m*\u001b[39m forces \u001b[38;5;241m/\u001b[39m \u001b[38;5;28mself\u001b[39m\u001b[38;5;241m.\u001b[39mmasses \u001b[38;5;241m-\u001b[39m \u001b[38;5;28mself\u001b[39m\u001b[38;5;241m.\u001b[39mc2 \u001b[38;5;241m*\u001b[39m \u001b[38;5;28mself\u001b[39m\u001b[38;5;241m.\u001b[39mv \u001b[38;5;241m+\u001b[39m\n\u001b[1;32m    175\u001b[0m            \u001b[38;5;28mself\u001b[39m\u001b[38;5;241m.\u001b[39mc3 \u001b[38;5;241m*\u001b[39m \u001b[38;5;28mself\u001b[39m\u001b[38;5;241m.\u001b[39mxi \u001b[38;5;241m-\u001b[39m \u001b[38;5;28mself\u001b[39m\u001b[38;5;241m.\u001b[39mc4 \u001b[38;5;241m*\u001b[39m \u001b[38;5;28mself\u001b[39m\u001b[38;5;241m.\u001b[39meta)\n",
      "File \u001b[0;32m~/.local/lib/python3.8/site-packages/ase/atoms.py:788\u001b[0m, in \u001b[0;36mAtoms.get_forces\u001b[0;34m(self, apply_constraint, md)\u001b[0m\n\u001b[1;32m    786\u001b[0m \u001b[38;5;28;01mif\u001b[39;00m \u001b[38;5;28mself\u001b[39m\u001b[38;5;241m.\u001b[39m_calc \u001b[38;5;129;01mis\u001b[39;00m \u001b[38;5;28;01mNone\u001b[39;00m:\n\u001b[1;32m    787\u001b[0m     \u001b[38;5;28;01mraise\u001b[39;00m \u001b[38;5;167;01mRuntimeError\u001b[39;00m(\u001b[38;5;124m'\u001b[39m\u001b[38;5;124mAtoms object has no calculator.\u001b[39m\u001b[38;5;124m'\u001b[39m)\n\u001b[0;32m--> 788\u001b[0m forces \u001b[38;5;241m=\u001b[39m \u001b[38;5;28;43mself\u001b[39;49m\u001b[38;5;241;43m.\u001b[39;49m\u001b[43m_calc\u001b[49m\u001b[38;5;241;43m.\u001b[39;49m\u001b[43mget_forces\u001b[49m\u001b[43m(\u001b[49m\u001b[38;5;28;43mself\u001b[39;49m\u001b[43m)\u001b[49m\n\u001b[1;32m    790\u001b[0m \u001b[38;5;28;01mif\u001b[39;00m apply_constraint:\n\u001b[1;32m    791\u001b[0m     \u001b[38;5;66;03m# We need a special md flag here because for MD we want\u001b[39;00m\n\u001b[1;32m    792\u001b[0m     \u001b[38;5;66;03m# to skip real constraints but include special \"constraints\"\u001b[39;00m\n\u001b[1;32m    793\u001b[0m     \u001b[38;5;66;03m# Like Hookean.\u001b[39;00m\n\u001b[1;32m    794\u001b[0m     \u001b[38;5;28;01mfor\u001b[39;00m constraint \u001b[38;5;129;01min\u001b[39;00m \u001b[38;5;28mself\u001b[39m\u001b[38;5;241m.\u001b[39mconstraints:\n",
      "File \u001b[0;32m~/.local/lib/python3.8/site-packages/ase/calculators/abc.py:23\u001b[0m, in \u001b[0;36mGetPropertiesMixin.get_forces\u001b[0;34m(self, atoms)\u001b[0m\n\u001b[1;32m     22\u001b[0m \u001b[38;5;28;01mdef\u001b[39;00m \u001b[38;5;21mget_forces\u001b[39m(\u001b[38;5;28mself\u001b[39m, atoms\u001b[38;5;241m=\u001b[39m\u001b[38;5;28;01mNone\u001b[39;00m):\n\u001b[0;32m---> 23\u001b[0m     \u001b[38;5;28;01mreturn\u001b[39;00m \u001b[38;5;28;43mself\u001b[39;49m\u001b[38;5;241;43m.\u001b[39;49m\u001b[43mget_property\u001b[49m\u001b[43m(\u001b[49m\u001b[38;5;124;43m'\u001b[39;49m\u001b[38;5;124;43mforces\u001b[39;49m\u001b[38;5;124;43m'\u001b[39;49m\u001b[43m,\u001b[49m\u001b[43m \u001b[49m\u001b[43matoms\u001b[49m\u001b[43m)\u001b[49m\n",
      "File \u001b[0;32m~/.local/lib/python3.8/site-packages/ase/calculators/calculator.py:737\u001b[0m, in \u001b[0;36mCalculator.get_property\u001b[0;34m(self, name, atoms, allow_calculation)\u001b[0m\n\u001b[1;32m    735\u001b[0m     \u001b[38;5;28;01mif\u001b[39;00m \u001b[38;5;129;01mnot\u001b[39;00m allow_calculation:\n\u001b[1;32m    736\u001b[0m         \u001b[38;5;28;01mreturn\u001b[39;00m \u001b[38;5;28;01mNone\u001b[39;00m\n\u001b[0;32m--> 737\u001b[0m     \u001b[38;5;28;43mself\u001b[39;49m\u001b[38;5;241;43m.\u001b[39;49m\u001b[43mcalculate\u001b[49m\u001b[43m(\u001b[49m\u001b[43matoms\u001b[49m\u001b[43m,\u001b[49m\u001b[43m \u001b[49m\u001b[43m[\u001b[49m\u001b[43mname\u001b[49m\u001b[43m]\u001b[49m\u001b[43m,\u001b[49m\u001b[43m \u001b[49m\u001b[43msystem_changes\u001b[49m\u001b[43m)\u001b[49m\n\u001b[1;32m    739\u001b[0m \u001b[38;5;28;01mif\u001b[39;00m name \u001b[38;5;129;01mnot\u001b[39;00m \u001b[38;5;129;01min\u001b[39;00m \u001b[38;5;28mself\u001b[39m\u001b[38;5;241m.\u001b[39mresults:\n\u001b[1;32m    740\u001b[0m     \u001b[38;5;66;03m# For some reason the calculator was not able to do what we want,\u001b[39;00m\n\u001b[1;32m    741\u001b[0m     \u001b[38;5;66;03m# and that is OK.\u001b[39;00m\n\u001b[1;32m    742\u001b[0m     \u001b[38;5;28;01mraise\u001b[39;00m PropertyNotImplementedError(\u001b[38;5;124m'\u001b[39m\u001b[38;5;132;01m{}\u001b[39;00m\u001b[38;5;124m not present in this \u001b[39m\u001b[38;5;124m'\u001b[39m\n\u001b[1;32m    743\u001b[0m                                       \u001b[38;5;124m'\u001b[39m\u001b[38;5;124mcalculation\u001b[39m\u001b[38;5;124m'\u001b[39m\u001b[38;5;241m.\u001b[39mformat(name))\n",
      "File \u001b[0;32m~/anaconda3/envs/schnet/lib/python3.8/site-packages/schnetpack/interfaces/ase_interface.py:293\u001b[0m, in \u001b[0;36mSpkCalculator.calculate\u001b[0;34m(self, atoms, properties, system_changes)\u001b[0m\n\u001b[1;32m    290\u001b[0m Calculator\u001b[38;5;241m.\u001b[39mcalculate(\u001b[38;5;28mself\u001b[39m, atoms)\n\u001b[1;32m    292\u001b[0m \u001b[38;5;66;03m# Convert to schnetpack input format\u001b[39;00m\n\u001b[0;32m--> 293\u001b[0m model_inputs \u001b[38;5;241m=\u001b[39m \u001b[38;5;28;43mself\u001b[39;49m\u001b[38;5;241;43m.\u001b[39;49m\u001b[43mconverter\u001b[49m\u001b[43m(\u001b[49m\u001b[43matoms\u001b[49m\u001b[43m)\u001b[49m\n\u001b[1;32m    294\u001b[0m model_results \u001b[38;5;241m=\u001b[39m \u001b[38;5;28mself\u001b[39m\u001b[38;5;241m.\u001b[39mmodel(model_inputs)\n\u001b[1;32m    296\u001b[0m results \u001b[38;5;241m=\u001b[39m {}\n",
      "File \u001b[0;32m~/anaconda3/envs/schnet/lib/python3.8/site-packages/schnetpack/interfaces/ase_interface.py:152\u001b[0m, in \u001b[0;36mAtomsConverter.__call__\u001b[0;34m(self, atoms)\u001b[0m\n\u001b[1;32m    149\u001b[0m     inputs\u001b[38;5;241m.\u001b[39mupdate(\u001b[38;5;28mself\u001b[39m\u001b[38;5;241m.\u001b[39madditional_inputs)\n\u001b[1;32m    151\u001b[0m     \u001b[38;5;28;01mfor\u001b[39;00m transform \u001b[38;5;129;01min\u001b[39;00m \u001b[38;5;28mself\u001b[39m\u001b[38;5;241m.\u001b[39mtransforms:\n\u001b[0;32m--> 152\u001b[0m         inputs \u001b[38;5;241m=\u001b[39m \u001b[43mtransform\u001b[49m\u001b[43m(\u001b[49m\u001b[43minputs\u001b[49m\u001b[43m)\u001b[49m\n\u001b[1;32m    153\u001b[0m     inputs_batch\u001b[38;5;241m.\u001b[39mappend(inputs)\n\u001b[1;32m    155\u001b[0m inputs \u001b[38;5;241m=\u001b[39m _atoms_collate_fn(inputs_batch)\n",
      "File \u001b[0;32m~/anaconda3/envs/schnet/lib/python3.8/site-packages/torch/nn/modules/module.py:1511\u001b[0m, in \u001b[0;36mModule._wrapped_call_impl\u001b[0;34m(self, *args, **kwargs)\u001b[0m\n\u001b[1;32m   1509\u001b[0m     \u001b[38;5;28;01mreturn\u001b[39;00m \u001b[38;5;28mself\u001b[39m\u001b[38;5;241m.\u001b[39m_compiled_call_impl(\u001b[38;5;241m*\u001b[39margs, \u001b[38;5;241m*\u001b[39m\u001b[38;5;241m*\u001b[39mkwargs)  \u001b[38;5;66;03m# type: ignore[misc]\u001b[39;00m\n\u001b[1;32m   1510\u001b[0m \u001b[38;5;28;01melse\u001b[39;00m:\n\u001b[0;32m-> 1511\u001b[0m     \u001b[38;5;28;01mreturn\u001b[39;00m \u001b[38;5;28;43mself\u001b[39;49m\u001b[38;5;241;43m.\u001b[39;49m\u001b[43m_call_impl\u001b[49m\u001b[43m(\u001b[49m\u001b[38;5;241;43m*\u001b[39;49m\u001b[43margs\u001b[49m\u001b[43m,\u001b[49m\u001b[43m \u001b[49m\u001b[38;5;241;43m*\u001b[39;49m\u001b[38;5;241;43m*\u001b[39;49m\u001b[43mkwargs\u001b[49m\u001b[43m)\u001b[49m\n",
      "File \u001b[0;32m~/anaconda3/envs/schnet/lib/python3.8/site-packages/torch/nn/modules/module.py:1520\u001b[0m, in \u001b[0;36mModule._call_impl\u001b[0;34m(self, *args, **kwargs)\u001b[0m\n\u001b[1;32m   1515\u001b[0m \u001b[38;5;66;03m# If we don't have any hooks, we want to skip the rest of the logic in\u001b[39;00m\n\u001b[1;32m   1516\u001b[0m \u001b[38;5;66;03m# this function, and just call forward.\u001b[39;00m\n\u001b[1;32m   1517\u001b[0m \u001b[38;5;28;01mif\u001b[39;00m \u001b[38;5;129;01mnot\u001b[39;00m (\u001b[38;5;28mself\u001b[39m\u001b[38;5;241m.\u001b[39m_backward_hooks \u001b[38;5;129;01mor\u001b[39;00m \u001b[38;5;28mself\u001b[39m\u001b[38;5;241m.\u001b[39m_backward_pre_hooks \u001b[38;5;129;01mor\u001b[39;00m \u001b[38;5;28mself\u001b[39m\u001b[38;5;241m.\u001b[39m_forward_hooks \u001b[38;5;129;01mor\u001b[39;00m \u001b[38;5;28mself\u001b[39m\u001b[38;5;241m.\u001b[39m_forward_pre_hooks\n\u001b[1;32m   1518\u001b[0m         \u001b[38;5;129;01mor\u001b[39;00m _global_backward_pre_hooks \u001b[38;5;129;01mor\u001b[39;00m _global_backward_hooks\n\u001b[1;32m   1519\u001b[0m         \u001b[38;5;129;01mor\u001b[39;00m _global_forward_hooks \u001b[38;5;129;01mor\u001b[39;00m _global_forward_pre_hooks):\n\u001b[0;32m-> 1520\u001b[0m     \u001b[38;5;28;01mreturn\u001b[39;00m \u001b[43mforward_call\u001b[49m\u001b[43m(\u001b[49m\u001b[38;5;241;43m*\u001b[39;49m\u001b[43margs\u001b[49m\u001b[43m,\u001b[49m\u001b[43m \u001b[49m\u001b[38;5;241;43m*\u001b[39;49m\u001b[38;5;241;43m*\u001b[39;49m\u001b[43mkwargs\u001b[49m\u001b[43m)\u001b[49m\n\u001b[1;32m   1522\u001b[0m \u001b[38;5;28;01mtry\u001b[39;00m:\n\u001b[1;32m   1523\u001b[0m     result \u001b[38;5;241m=\u001b[39m \u001b[38;5;28;01mNone\u001b[39;00m\n",
      "File \u001b[0;32m~/anaconda3/envs/schnet/lib/python3.8/site-packages/schnetpack/transform/neighborlist.py:185\u001b[0m, in \u001b[0;36mNeighborListTransform.forward\u001b[0;34m(self, inputs)\u001b[0m\n\u001b[1;32m    182\u001b[0m cell \u001b[38;5;241m=\u001b[39m inputs[properties\u001b[38;5;241m.\u001b[39mcell]\u001b[38;5;241m.\u001b[39mview(\u001b[38;5;241m3\u001b[39m, \u001b[38;5;241m3\u001b[39m)\n\u001b[1;32m    183\u001b[0m pbc \u001b[38;5;241m=\u001b[39m inputs[properties\u001b[38;5;241m.\u001b[39mpbc]\n\u001b[0;32m--> 185\u001b[0m idx_i, idx_j, offset \u001b[38;5;241m=\u001b[39m \u001b[38;5;28;43mself\u001b[39;49m\u001b[38;5;241;43m.\u001b[39;49m\u001b[43m_build_neighbor_list\u001b[49m\u001b[43m(\u001b[49m\u001b[43mZ\u001b[49m\u001b[43m,\u001b[49m\u001b[43m \u001b[49m\u001b[43mR\u001b[49m\u001b[43m,\u001b[49m\u001b[43m \u001b[49m\u001b[43mcell\u001b[49m\u001b[43m,\u001b[49m\u001b[43m \u001b[49m\u001b[43mpbc\u001b[49m\u001b[43m,\u001b[49m\u001b[43m \u001b[49m\u001b[38;5;28;43mself\u001b[39;49m\u001b[38;5;241;43m.\u001b[39;49m\u001b[43m_cutoff\u001b[49m\u001b[43m)\u001b[49m\n\u001b[1;32m    186\u001b[0m inputs[properties\u001b[38;5;241m.\u001b[39midx_i] \u001b[38;5;241m=\u001b[39m idx_i\u001b[38;5;241m.\u001b[39mdetach()\n\u001b[1;32m    187\u001b[0m inputs[properties\u001b[38;5;241m.\u001b[39midx_j] \u001b[38;5;241m=\u001b[39m idx_j\u001b[38;5;241m.\u001b[39mdetach()\n",
      "File \u001b[0;32m~/anaconda3/envs/schnet/lib/python3.8/site-packages/schnetpack/transform/neighborlist.py:211\u001b[0m, in \u001b[0;36mASENeighborList._build_neighbor_list\u001b[0;34m(self, Z, positions, cell, pbc, cutoff)\u001b[0m\n\u001b[1;32m    208\u001b[0m \u001b[38;5;28;01mdef\u001b[39;00m \u001b[38;5;21m_build_neighbor_list\u001b[39m(\u001b[38;5;28mself\u001b[39m, Z, positions, cell, pbc, cutoff):\n\u001b[1;32m    209\u001b[0m     at \u001b[38;5;241m=\u001b[39m Atoms(numbers\u001b[38;5;241m=\u001b[39mZ, positions\u001b[38;5;241m=\u001b[39mpositions, cell\u001b[38;5;241m=\u001b[39mcell, pbc\u001b[38;5;241m=\u001b[39mpbc)\n\u001b[0;32m--> 211\u001b[0m     idx_i, idx_j, S \u001b[38;5;241m=\u001b[39m \u001b[43mase_neighbor_list\u001b[49m\u001b[43m(\u001b[49m\u001b[38;5;124;43m\"\u001b[39;49m\u001b[38;5;124;43mijS\u001b[39;49m\u001b[38;5;124;43m\"\u001b[39;49m\u001b[43m,\u001b[49m\u001b[43m \u001b[49m\u001b[43mat\u001b[49m\u001b[43m,\u001b[49m\u001b[43m \u001b[49m\u001b[43mcutoff\u001b[49m\u001b[43m,\u001b[49m\u001b[43m \u001b[49m\u001b[43mself_interaction\u001b[49m\u001b[38;5;241;43m=\u001b[39;49m\u001b[38;5;28;43;01mFalse\u001b[39;49;00m\u001b[43m)\u001b[49m\n\u001b[1;32m    212\u001b[0m     idx_i \u001b[38;5;241m=\u001b[39m torch\u001b[38;5;241m.\u001b[39mfrom_numpy(idx_i)\n\u001b[1;32m    213\u001b[0m     idx_j \u001b[38;5;241m=\u001b[39m torch\u001b[38;5;241m.\u001b[39mfrom_numpy(idx_j)\n",
      "File \u001b[0;32m~/.local/lib/python3.8/site-packages/ase/neighborlist.py:619\u001b[0m, in \u001b[0;36mneighbor_list\u001b[0;34m(quantities, a, cutoff, self_interaction, max_nbins)\u001b[0m\n\u001b[1;32m    512\u001b[0m \u001b[38;5;28;01mdef\u001b[39;00m \u001b[38;5;21mneighbor_list\u001b[39m(quantities, a, cutoff, self_interaction\u001b[38;5;241m=\u001b[39m\u001b[38;5;28;01mFalse\u001b[39;00m,\n\u001b[1;32m    513\u001b[0m                   max_nbins\u001b[38;5;241m=\u001b[39m\u001b[38;5;241m1e6\u001b[39m):\n\u001b[1;32m    514\u001b[0m \u001b[38;5;250m    \u001b[39m\u001b[38;5;124;03m\"\"\"Compute a neighbor list for an atomic configuration.\u001b[39;00m\n\u001b[1;32m    515\u001b[0m \n\u001b[1;32m    516\u001b[0m \u001b[38;5;124;03m    Atoms outside periodic boundaries are mapped into the box. Atoms\u001b[39;00m\n\u001b[0;32m   (...)\u001b[0m\n\u001b[1;32m    617\u001b[0m \n\u001b[1;32m    618\u001b[0m \u001b[38;5;124;03m    \"\"\"\u001b[39;00m\n\u001b[0;32m--> 619\u001b[0m     \u001b[38;5;28;01mreturn\u001b[39;00m \u001b[43mprimitive_neighbor_list\u001b[49m\u001b[43m(\u001b[49m\u001b[43mquantities\u001b[49m\u001b[43m,\u001b[49m\u001b[43m \u001b[49m\u001b[43ma\u001b[49m\u001b[38;5;241;43m.\u001b[39;49m\u001b[43mpbc\u001b[49m\u001b[43m,\u001b[49m\n\u001b[1;32m    620\u001b[0m \u001b[43m                                   \u001b[49m\u001b[43ma\u001b[49m\u001b[38;5;241;43m.\u001b[39;49m\u001b[43mget_cell\u001b[49m\u001b[43m(\u001b[49m\u001b[43mcomplete\u001b[49m\u001b[38;5;241;43m=\u001b[39;49m\u001b[38;5;28;43;01mTrue\u001b[39;49;00m\u001b[43m)\u001b[49m\u001b[43m,\u001b[49m\n\u001b[1;32m    621\u001b[0m \u001b[43m                                   \u001b[49m\u001b[43ma\u001b[49m\u001b[38;5;241;43m.\u001b[39;49m\u001b[43mpositions\u001b[49m\u001b[43m,\u001b[49m\u001b[43m \u001b[49m\u001b[43mcutoff\u001b[49m\u001b[43m,\u001b[49m\u001b[43m \u001b[49m\u001b[43mnumbers\u001b[49m\u001b[38;5;241;43m=\u001b[39;49m\u001b[43ma\u001b[49m\u001b[38;5;241;43m.\u001b[39;49m\u001b[43mnumbers\u001b[49m\u001b[43m,\u001b[49m\n\u001b[1;32m    622\u001b[0m \u001b[43m                                   \u001b[49m\u001b[43mself_interaction\u001b[49m\u001b[38;5;241;43m=\u001b[39;49m\u001b[43mself_interaction\u001b[49m\u001b[43m,\u001b[49m\n\u001b[1;32m    623\u001b[0m \u001b[43m                                   \u001b[49m\u001b[43mmax_nbins\u001b[49m\u001b[38;5;241;43m=\u001b[39;49m\u001b[43mmax_nbins\u001b[49m\u001b[43m)\u001b[49m\n",
      "File \u001b[0;32m~/.local/lib/python3.8/site-packages/ase/neighborlist.py:381\u001b[0m, in \u001b[0;36mprimitive_neighbor_list\u001b[0;34m(quantities, pbc, cell, positions, cutoff, numbers, self_interaction, use_scaled_positions, max_nbins)\u001b[0m\n\u001b[1;32m    374\u001b[0m _cell_shift_vector_x_n \u001b[38;5;241m=\u001b[39m \\\n\u001b[1;32m    375\u001b[0m     np\u001b[38;5;241m.\u001b[39mresize(shiftx_xyz\u001b[38;5;241m.\u001b[39mreshape(\u001b[38;5;241m-\u001b[39m\u001b[38;5;241m1\u001b[39m, \u001b[38;5;241m1\u001b[39m),\n\u001b[1;32m    376\u001b[0m               (max_natoms_per_bin\u001b[38;5;241m*\u001b[39m\u001b[38;5;241m*\u001b[39m\u001b[38;5;241m2\u001b[39m, shiftx_xyz\u001b[38;5;241m.\u001b[39msize))\u001b[38;5;241m.\u001b[39mT\n\u001b[1;32m    377\u001b[0m _cell_shift_vector_y_n \u001b[38;5;241m=\u001b[39m \\\n\u001b[1;32m    378\u001b[0m     np\u001b[38;5;241m.\u001b[39mresize(shifty_xyz\u001b[38;5;241m.\u001b[39mreshape(\u001b[38;5;241m-\u001b[39m\u001b[38;5;241m1\u001b[39m, \u001b[38;5;241m1\u001b[39m),\n\u001b[1;32m    379\u001b[0m               (max_natoms_per_bin\u001b[38;5;241m*\u001b[39m\u001b[38;5;241m*\u001b[39m\u001b[38;5;241m2\u001b[39m, shifty_xyz\u001b[38;5;241m.\u001b[39msize))\u001b[38;5;241m.\u001b[39mT\n\u001b[1;32m    380\u001b[0m _cell_shift_vector_z_n \u001b[38;5;241m=\u001b[39m \\\n\u001b[0;32m--> 381\u001b[0m     \u001b[43mnp\u001b[49m\u001b[38;5;241;43m.\u001b[39;49m\u001b[43mresize\u001b[49m\u001b[43m(\u001b[49m\u001b[43mshiftz_xyz\u001b[49m\u001b[38;5;241;43m.\u001b[39;49m\u001b[43mreshape\u001b[49m\u001b[43m(\u001b[49m\u001b[38;5;241;43m-\u001b[39;49m\u001b[38;5;241;43m1\u001b[39;49m\u001b[43m,\u001b[49m\u001b[43m \u001b[49m\u001b[38;5;241;43m1\u001b[39;49m\u001b[43m)\u001b[49m\u001b[43m,\u001b[49m\n\u001b[1;32m    382\u001b[0m \u001b[43m              \u001b[49m\u001b[43m(\u001b[49m\u001b[43mmax_natoms_per_bin\u001b[49m\u001b[38;5;241;43m*\u001b[39;49m\u001b[38;5;241;43m*\u001b[39;49m\u001b[38;5;241;43m2\u001b[39;49m\u001b[43m,\u001b[49m\u001b[43m \u001b[49m\u001b[43mshiftz_xyz\u001b[49m\u001b[38;5;241;43m.\u001b[39;49m\u001b[43msize\u001b[49m\u001b[43m)\u001b[49m\u001b[43m)\u001b[49m\u001b[38;5;241m.\u001b[39mT\n\u001b[1;32m    384\u001b[0m \u001b[38;5;66;03m# We have created too many pairs because we assumed each bin\u001b[39;00m\n\u001b[1;32m    385\u001b[0m \u001b[38;5;66;03m# has exactly max_natoms_per_bin atoms. Remove all surperfluous\u001b[39;00m\n\u001b[1;32m    386\u001b[0m \u001b[38;5;66;03m# pairs. Those are pairs that involve an atom with index -1.\u001b[39;00m\n\u001b[1;32m    387\u001b[0m mask \u001b[38;5;241m=\u001b[39m np\u001b[38;5;241m.\u001b[39mlogical_and(_first_at_neightuple_n \u001b[38;5;241m!=\u001b[39m \u001b[38;5;241m-\u001b[39m\u001b[38;5;241m1\u001b[39m,\n\u001b[1;32m    388\u001b[0m                       _secnd_at_neightuple_n \u001b[38;5;241m!=\u001b[39m \u001b[38;5;241m-\u001b[39m\u001b[38;5;241m1\u001b[39m)\n",
      "File \u001b[0;32m<__array_function__ internals>:200\u001b[0m, in \u001b[0;36mresize\u001b[0;34m(*args, **kwargs)\u001b[0m\n",
      "File \u001b[0;32m~/.local/lib/python3.8/site-packages/numpy/core/fromnumeric.py:1495\u001b[0m, in \u001b[0;36mresize\u001b[0;34m(a, new_shape)\u001b[0m\n\u001b[1;32m   1492\u001b[0m     \u001b[38;5;28;01mreturn\u001b[39;00m np\u001b[38;5;241m.\u001b[39mzeros_like(a, shape\u001b[38;5;241m=\u001b[39mnew_shape)\n\u001b[1;32m   1494\u001b[0m repeats \u001b[38;5;241m=\u001b[39m \u001b[38;5;241m-\u001b[39m(\u001b[38;5;241m-\u001b[39mnew_size \u001b[38;5;241m/\u001b[39m\u001b[38;5;241m/\u001b[39m a\u001b[38;5;241m.\u001b[39msize)  \u001b[38;5;66;03m# ceil division\u001b[39;00m\n\u001b[0;32m-> 1495\u001b[0m a \u001b[38;5;241m=\u001b[39m \u001b[43mconcatenate\u001b[49m\u001b[43m(\u001b[49m\u001b[43m(\u001b[49m\u001b[43ma\u001b[49m\u001b[43m,\u001b[49m\u001b[43m)\u001b[49m\u001b[43m \u001b[49m\u001b[38;5;241;43m*\u001b[39;49m\u001b[43m \u001b[49m\u001b[43mrepeats\u001b[49m\u001b[43m)\u001b[49m[:new_size]\n\u001b[1;32m   1497\u001b[0m \u001b[38;5;28;01mreturn\u001b[39;00m reshape(a, new_shape)\n",
      "File \u001b[0;32m<__array_function__ internals>:200\u001b[0m, in \u001b[0;36mconcatenate\u001b[0;34m(*args, **kwargs)\u001b[0m\n",
      "\u001b[0;31mKeyboardInterrupt\u001b[0m: "
     ]
    }
   ],
   "source": [
    "molecule_path = 'optimization.extxyz'\n",
    "ase_dir = './'\n",
    "model_path = \"best_model\"\n",
    "\n",
    "tob9_op_ase = spk.interfaces.AseInterface(\n",
    "    molecule_path,\n",
    "    ase_dir,\n",
    "    model_file=model_path,\n",
    "    neighbor_list=trn.ASENeighborList(cutoff=4.0),\n",
    "    energy_key=MD17.energy,\n",
    "    force_key=MD17.forces,\n",
    "    energy_unit=\"eV\",\n",
    "    position_unit=\"Ang\",\n",
    "    device=\"cuda\",\n",
    "    dtype=torch.float64,\n",
    ")\n",
    "\n",
    "!rm './simulation_300K.log'\n",
    "!rm './simulation_300K.traj'\n",
    "\n",
    "tob9_op_ase.init_md(\n",
    "    'simulation_300K',\n",
    "    time_step=0.5, #fs\n",
    "    temp_init=300,\n",
    "    temp_bath=300, #NVT None:NVE\n",
    "    reset=True,\n",
    "    interval=100\n",
    ")\n",
    "\n",
    "tob9_op_ase.run_md(1000000)"
   ]
  }
 ],
 "metadata": {
  "kernelspec": {
   "display_name": "schnet",
   "language": "python",
   "name": "schnet"
  },
  "language_info": {
   "codemirror_mode": {
    "name": "ipython",
    "version": 3
   },
   "file_extension": ".py",
   "mimetype": "text/x-python",
   "name": "python",
   "nbconvert_exporter": "python",
   "pygments_lexer": "ipython3",
   "version": "3.8.18"
  }
 },
 "nbformat": 4,
 "nbformat_minor": 5
}
