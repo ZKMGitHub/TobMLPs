{
 "cells": [
  {
   "cell_type": "code",
   "execution_count": 1,
   "id": "949228cd-5827-4bcf-880b-e35337c97ced",
   "metadata": {},
   "outputs": [],
   "source": [
    "from ase import Atoms, io\n",
    "import torch\n",
    "import schnetpack as spk\n",
    "from schnetpack.data import AtomsDataModule\n",
    "from schnetpack.datasets import MD17\n",
    "import schnetpack.transform as trn\n",
    "\n",
    "device = torch.device(\"cuda\")"
   ]
  },
  {
   "cell_type": "code",
   "execution_count": 2,
   "id": "78dd6e11-228b-47da-ad4d-2edf997fdc28",
   "metadata": {},
   "outputs": [],
   "source": [
    "model_path = \"best_model\"\n",
    "best_model = torch.load(model_path, map_location=device)"
   ]
  },
  {
   "cell_type": "code",
   "execution_count": 13,
   "id": "27f8b318-94fe-4999-9741-cfcdff4b97ea",
   "metadata": {},
   "outputs": [
    {
     "name": "stderr",
     "output_type": "stream",
     "text": [
      "100%|███████████████████████████████████████████████████████████████████████████████████████████████████████████████████████████████| 95/95 [00:01<00:00, 64.08it/s]\n"
     ]
    }
   ],
   "source": [
    "\"\"\"\n",
    "data = AtomsDataModule(\n",
    "    './tob9.db',\n",
    "    batch_size=10,\n",
    "    num_train=950,\n",
    "    num_val=50,\n",
    "    transforms=[\n",
    "        trn.ASENeighborList(cutoff=4.),\n",
    "        trn.RemoveOffsets(MD17.energy, remove_mean=True, remove_atomrefs=False),\n",
    "        trn.CastTo32()\n",
    "    ],\n",
    "    num_workers=1,\n",
    "    pin_memory=True, # set to false, when not using a GPU\n",
    ")\n",
    "data.prepare_data()\n",
    "data.setup()\n",
    "\"\"\""
   ]
  },
  {
   "cell_type": "code",
   "execution_count": 16,
   "id": "165adbc5-3547-45a8-bd73-d4bde919788c",
   "metadata": {},
   "outputs": [],
   "source": [
    "\"\"\"\n",
    "structure = data.test_dataset[0]\n",
    "atoms = Atoms(\n",
    "    numbers=structure[spk.properties.Z], positions=structure[spk.properties.R]\n",
    ")\n",
    "io.write('tob9.xyz', atoms, format='xyz')\n",
    "\"\"\""
   ]
  },
  {
   "cell_type": "code",
   "execution_count": 3,
   "id": "98a76db0-03f7-4f6e-ade3-ef3485349a5c",
   "metadata": {},
   "outputs": [
    {
     "name": "stderr",
     "output_type": "stream",
     "text": [
      "INFO:schnetpack.interfaces.ase_interface:Loading model from best_model\n"
     ]
    }
   ],
   "source": [
    "molecule_path = 'tob9.xyz'\n",
    "ase_dir = './'\n",
    "model_path = \"best_model\"\n",
    "\n",
    "tob9_ase = spk.interfaces.AseInterface(\n",
    "    molecule_path,\n",
    "    ase_dir,\n",
    "    model_file=model_path,\n",
    "    neighbor_list=trn.ASENeighborList(cutoff=4.0),\n",
    "    energy_key=MD17.energy,\n",
    "    force_key=MD17.forces,\n",
    "    energy_unit=\"eV\",\n",
    "    position_unit=\"Ang\",\n",
    "    device=\"cuda\",\n",
    "    dtype=torch.float64,\n",
    ")"
   ]
  },
  {
   "cell_type": "code",
   "execution_count": 4,
   "id": "5cf06c45-5416-4578-9e1e-a5dbb55b1f96",
   "metadata": {
    "scrolled": true
   },
   "outputs": [
    {
     "name": "stdout",
     "output_type": "stream",
     "text": [
      "                Step[ FC]     Time          Energy          fmax\n",
      "BFGSLineSearch:    0[  0] 01:14:46     -452.860487        4.1414\n",
      "BFGSLineSearch:    1[  2] 01:14:47     -454.510691        1.8411\n",
      "BFGSLineSearch:    2[  4] 01:14:48     -455.433983        1.4856\n",
      "BFGSLineSearch:    3[  6] 01:14:49     -455.736843        1.3235\n",
      "BFGSLineSearch:    4[  8] 01:14:50     -455.955815        0.8622\n",
      "BFGSLineSearch:    5[ 10] 01:14:51     -456.067281        0.5758\n",
      "BFGSLineSearch:    6[ 12] 01:14:52     -456.175353        0.7863\n",
      "BFGSLineSearch:    7[ 14] 01:14:53     -456.260972        0.4243\n",
      "BFGSLineSearch:    8[ 16] 01:14:53     -456.303085        0.3877\n",
      "BFGSLineSearch:    9[ 18] 01:14:54     -456.346889        0.4145\n",
      "BFGSLineSearch:   10[ 20] 01:14:55     -456.374827        0.3673\n",
      "BFGSLineSearch:   11[ 22] 01:14:56     -456.400670        0.3671\n",
      "BFGSLineSearch:   12[ 24] 01:14:57     -456.419466        0.2414\n",
      "BFGSLineSearch:   13[ 26] 01:14:58     -456.434710        0.1982\n",
      "BFGSLineSearch:   14[ 28] 01:14:59     -456.443458        0.2427\n",
      "BFGSLineSearch:   15[ 30] 01:15:00     -456.456721        0.1765\n",
      "BFGSLineSearch:   16[ 32] 01:15:01     -456.462069        0.1480\n",
      "BFGSLineSearch:   17[ 34] 01:15:02     -456.469039        0.1238\n",
      "BFGSLineSearch:   18[ 36] 01:15:03     -456.474219        0.1180\n",
      "BFGSLineSearch:   19[ 38] 01:15:04     -456.477217        0.1280\n",
      "BFGSLineSearch:   20[ 40] 01:15:05     -456.479816        0.0992\n",
      "BFGSLineSearch:   21[ 42] 01:15:06     -456.482136        0.0910\n",
      "BFGSLineSearch:   22[ 44] 01:15:07     -456.483032        0.0553\n",
      "BFGSLineSearch:   23[ 45] 01:15:07     -456.484356        0.1370\n",
      "BFGSLineSearch:   24[ 47] 01:15:08     -456.485058        0.0364\n",
      "BFGSLineSearch:   25[ 49] 01:15:09     -456.485712        0.0425\n",
      "BFGSLineSearch:   26[ 51] 01:15:10     -456.486212        0.0311\n",
      "BFGSLineSearch:   27[ 53] 01:15:11     -456.486653        0.0388\n",
      "BFGSLineSearch:   28[ 55] 01:15:12     -456.487045        0.0479\n",
      "BFGSLineSearch:   29[ 57] 01:15:13     -456.487586        0.0413\n",
      "BFGSLineSearch:   30[ 59] 01:15:14     -456.487906        0.0387\n",
      "BFGSLineSearch:   31[ 61] 01:15:15     -456.488257        0.0438\n",
      "BFGSLineSearch:   32[ 63] 01:15:15     -456.488593        0.0433\n",
      "BFGSLineSearch:   33[ 65] 01:15:16     -456.488945        0.0422\n",
      "BFGSLineSearch:   34[ 67] 01:15:17     -456.489312        0.0327\n",
      "BFGSLineSearch:   35[ 69] 01:15:18     -456.489667        0.0413\n",
      "BFGSLineSearch:   36[ 71] 01:15:19     -456.489829        0.0229\n",
      "BFGSLineSearch:   37[ 72] 01:15:20     -456.490106        0.0420\n",
      "BFGSLineSearch:   38[ 74] 01:15:20     -456.490276        0.0228\n",
      "BFGSLineSearch:   39[ 75] 01:15:21     -456.490422        0.0323\n",
      "BFGSLineSearch:   40[ 77] 01:15:22     -456.490579        0.0288\n",
      "BFGSLineSearch:   41[ 79] 01:15:23     -456.490710        0.0184\n",
      "BFGSLineSearch:   42[ 81] 01:15:24     -456.490828        0.0262\n",
      "BFGSLineSearch:   43[ 83] 01:15:25     -456.490943        0.0159\n",
      "BFGSLineSearch:   44[ 85] 01:15:26     -456.491034        0.0195\n",
      "BFGSLineSearch:   45[ 87] 01:15:27     -456.491191        0.0182\n",
      "BFGSLineSearch:   46[ 89] 01:15:28     -456.491248        0.0171\n",
      "BFGSLineSearch:   47[ 90] 01:15:29     -456.491325        0.0210\n",
      "BFGSLineSearch:   48[ 92] 01:15:30     -456.491405        0.0175\n",
      "BFGSLineSearch:   49[ 94] 01:15:30     -456.491464        0.0092\n"
     ]
    }
   ],
   "source": [
    "tob9_ase.optimize(fmax=1e-2)"
   ]
  },
  {
   "cell_type": "code",
   "execution_count": null,
   "id": "52d3c00e-5ffc-498b-a0e6-e4ab4a5affcf",
   "metadata": {},
   "outputs": [
    {
     "name": "stderr",
     "output_type": "stream",
     "text": [
      "INFO:schnetpack.interfaces.ase_interface:Loading model from best_model\n",
      "/home/zkm/.local/lib/python3.8/site-packages/ase/md/md.py:48: FutureWarning: Specify the temperature in K using the 'temperature_K' argument\n",
      "  warnings.warn(FutureWarning(w))\n"
     ]
    }
   ],
   "source": [
    "molecule_path = 'optimization.extxyz'\n",
    "ase_dir = './'\n",
    "model_path = \"best_model\"\n",
    "\n",
    "tob9_op_ase = spk.interfaces.AseInterface(\n",
    "    molecule_path,\n",
    "    ase_dir,\n",
    "    model_file=model_path,\n",
    "    neighbor_list=trn.ASENeighborList(cutoff=4.0),\n",
    "    energy_key=MD17.energy,\n",
    "    force_key=MD17.forces,\n",
    "    energy_unit=\"eV\",\n",
    "    position_unit=\"Ang\",\n",
    "    device=\"cuda\",\n",
    "    dtype=torch.float64,\n",
    ")\n",
    "\n",
    "!rm './simulation_300K.log'\n",
    "!rm './simulation_300K.traj'\n",
    "\n",
    "tob9_op_ase.init_md(\n",
    "    'simulation_300K',\n",
    "    time_step=0.5, #fs\n",
    "    temp_init=300,\n",
    "    temp_bath=300, #NVT None:NVE\n",
    "    reset=True,\n",
    "    interval=100\n",
    ")\n",
    "\n",
    "tob9_op_ase.run_md(1000000)"
   ]
  }
 ],
 "metadata": {
  "kernelspec": {
   "display_name": "schnet",
   "language": "python",
   "name": "schnet"
  },
  "language_info": {
   "codemirror_mode": {
    "name": "ipython",
    "version": 3
   },
   "file_extension": ".py",
   "mimetype": "text/x-python",
   "name": "python",
   "nbconvert_exporter": "python",
   "pygments_lexer": "ipython3",
   "version": "3.8.18"
  }
 },
 "nbformat": 4,
 "nbformat_minor": 5
}
