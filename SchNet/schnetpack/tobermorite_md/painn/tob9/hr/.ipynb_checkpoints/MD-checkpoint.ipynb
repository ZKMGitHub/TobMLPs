{
 "cells": [
  {
   "cell_type": "code",
   "execution_count": 1,
   "id": "949228cd-5827-4bcf-880b-e35337c97ced",
   "metadata": {},
   "outputs": [],
   "source": [
    "from ase import Atoms, io\n",
    "import torch\n",
    "import schnetpack as spk\n",
    "from schnetpack.data import AtomsDataModule\n",
    "from schnetpack.datasets import MD17\n",
    "import schnetpack.transform as trn\n",
    "\n",
    "device = torch.device(\"cuda\")"
   ]
  },
  {
   "cell_type": "code",
   "execution_count": 2,
   "id": "78dd6e11-228b-47da-ad4d-2edf997fdc28",
   "metadata": {},
   "outputs": [],
   "source": [
    "model_path = \"best_model\"\n",
    "best_model = torch.load(model_path, map_location=device)"
   ]
  },
  {
   "cell_type": "code",
   "execution_count": 13,
   "id": "27f8b318-94fe-4999-9741-cfcdff4b97ea",
   "metadata": {},
   "outputs": [
    {
     "name": "stderr",
     "output_type": "stream",
     "text": [
      "100%|███████████████████████████████████████████████████████████████████████████████████████████████████████████████████████████████| 95/95 [00:01<00:00, 64.08it/s]\n"
     ]
    }
   ],
   "source": [
    "\"\"\"\n",
    "data = AtomsDataModule(\n",
    "    './tob9.db',\n",
    "    batch_size=10,\n",
    "    num_train=950,\n",
    "    num_val=50,\n",
    "    transforms=[\n",
    "        trn.ASENeighborList(cutoff=4.),\n",
    "        trn.RemoveOffsets(MD17.energy, remove_mean=True, remove_atomrefs=False),\n",
    "        trn.CastTo32()\n",
    "    ],\n",
    "    num_workers=1,\n",
    "    pin_memory=True, # set to false, when not using a GPU\n",
    ")\n",
    "data.prepare_data()\n",
    "data.setup()\n",
    "\"\"\""
   ]
  },
  {
   "cell_type": "code",
   "execution_count": 16,
   "id": "165adbc5-3547-45a8-bd73-d4bde919788c",
   "metadata": {},
   "outputs": [],
   "source": [
    "\"\"\"\n",
    "structure = data.test_dataset[0]\n",
    "atoms = Atoms(\n",
    "    numbers=structure[spk.properties.Z], positions=structure[spk.properties.R]\n",
    ")\n",
    "io.write('tob9.xyz', atoms, format='xyz')\n",
    "\"\"\""
   ]
  },
  {
   "cell_type": "code",
   "execution_count": 3,
   "id": "98a76db0-03f7-4f6e-ade3-ef3485349a5c",
   "metadata": {},
   "outputs": [
    {
     "name": "stderr",
     "output_type": "stream",
     "text": [
      "INFO:schnetpack.interfaces.ase_interface:Loading model from best_model\n"
     ]
    }
   ],
   "source": [
    "molecule_path = 'tob9.xyz'\n",
    "ase_dir = './'\n",
    "model_path = \"best_model\"\n",
    "\n",
    "tob9_ase = spk.interfaces.AseInterface(\n",
    "    molecule_path,\n",
    "    ase_dir,\n",
    "    model_file=model_path,\n",
    "    neighbor_list=trn.ASENeighborList(cutoff=4.0),\n",
    "    energy_key=MD17.energy,\n",
    "    force_key=MD17.forces,\n",
    "    energy_unit=\"eV\",\n",
    "    position_unit=\"Ang\",\n",
    "    device=\"cuda\",\n",
    "    dtype=torch.float64,\n",
    ")"
   ]
  },
  {
   "cell_type": "code",
   "execution_count": 4,
   "id": "5cf06c45-5416-4578-9e1e-a5dbb55b1f96",
   "metadata": {
    "scrolled": true
   },
   "outputs": [
    {
     "name": "stdout",
     "output_type": "stream",
     "text": [
      "                Step[ FC]     Time          Energy          fmax\n",
      "BFGSLineSearch:    0[  0] 01:14:46     -452.860487        4.1414\n",
      "BFGSLineSearch:    1[  2] 01:14:47     -454.510691        1.8411\n",
      "BFGSLineSearch:    2[  4] 01:14:48     -455.433983        1.4856\n",
      "BFGSLineSearch:    3[  6] 01:14:49     -455.736843        1.3235\n",
      "BFGSLineSearch:    4[  8] 01:14:50     -455.955815        0.8622\n",
      "BFGSLineSearch:    5[ 10] 01:14:51     -456.067281        0.5758\n",
      "BFGSLineSearch:    6[ 12] 01:14:52     -456.175353        0.7863\n",
      "BFGSLineSearch:    7[ 14] 01:14:53     -456.260972        0.4243\n",
      "BFGSLineSearch:    8[ 16] 01:14:53     -456.303085        0.3877\n",
      "BFGSLineSearch:    9[ 18] 01:14:54     -456.346889        0.4145\n",
      "BFGSLineSearch:   10[ 20] 01:14:55     -456.374827        0.3673\n",
      "BFGSLineSearch:   11[ 22] 01:14:56     -456.400670        0.3671\n",
      "BFGSLineSearch:   12[ 24] 01:14:57     -456.419466        0.2414\n",
      "BFGSLineSearch:   13[ 26] 01:14:58     -456.434710        0.1982\n",
      "BFGSLineSearch:   14[ 28] 01:14:59     -456.443458        0.2427\n",
      "BFGSLineSearch:   15[ 30] 01:15:00     -456.456721        0.1765\n",
      "BFGSLineSearch:   16[ 32] 01:15:01     -456.462069        0.1480\n",
      "BFGSLineSearch:   17[ 34] 01:15:02     -456.469039        0.1238\n",
      "BFGSLineSearch:   18[ 36] 01:15:03     -456.474219        0.1180\n",
      "BFGSLineSearch:   19[ 38] 01:15:04     -456.477217        0.1280\n",
      "BFGSLineSearch:   20[ 40] 01:15:05     -456.479816        0.0992\n",
      "BFGSLineSearch:   21[ 42] 01:15:06     -456.482136        0.0910\n",
      "BFGSLineSearch:   22[ 44] 01:15:07     -456.483032        0.0553\n",
      "BFGSLineSearch:   23[ 45] 01:15:07     -456.484356        0.1370\n",
      "BFGSLineSearch:   24[ 47] 01:15:08     -456.485058        0.0364\n",
      "BFGSLineSearch:   25[ 49] 01:15:09     -456.485712        0.0425\n",
      "BFGSLineSearch:   26[ 51] 01:15:10     -456.486212        0.0311\n",
      "BFGSLineSearch:   27[ 53] 01:15:11     -456.486653        0.0388\n",
      "BFGSLineSearch:   28[ 55] 01:15:12     -456.487045        0.0479\n",
      "BFGSLineSearch:   29[ 57] 01:15:13     -456.487586        0.0413\n",
      "BFGSLineSearch:   30[ 59] 01:15:14     -456.487906        0.0387\n",
      "BFGSLineSearch:   31[ 61] 01:15:15     -456.488257        0.0438\n",
      "BFGSLineSearch:   32[ 63] 01:15:15     -456.488593        0.0433\n",
      "BFGSLineSearch:   33[ 65] 01:15:16     -456.488945        0.0422\n",
      "BFGSLineSearch:   34[ 67] 01:15:17     -456.489312        0.0327\n",
      "BFGSLineSearch:   35[ 69] 01:15:18     -456.489667        0.0413\n",
      "BFGSLineSearch:   36[ 71] 01:15:19     -456.489829        0.0229\n",
      "BFGSLineSearch:   37[ 72] 01:15:20     -456.490106        0.0420\n",
      "BFGSLineSearch:   38[ 74] 01:15:20     -456.490276        0.0228\n",
      "BFGSLineSearch:   39[ 75] 01:15:21     -456.490422        0.0323\n",
      "BFGSLineSearch:   40[ 77] 01:15:22     -456.490579        0.0288\n",
      "BFGSLineSearch:   41[ 79] 01:15:23     -456.490710        0.0184\n",
      "BFGSLineSearch:   42[ 81] 01:15:24     -456.490828        0.0262\n",
      "BFGSLineSearch:   43[ 83] 01:15:25     -456.490943        0.0159\n",
      "BFGSLineSearch:   44[ 85] 01:15:26     -456.491034        0.0195\n",
      "BFGSLineSearch:   45[ 87] 01:15:27     -456.491191        0.0182\n",
      "BFGSLineSearch:   46[ 89] 01:15:28     -456.491248        0.0171\n",
      "BFGSLineSearch:   47[ 90] 01:15:29     -456.491325        0.0210\n",
      "BFGSLineSearch:   48[ 92] 01:15:30     -456.491405        0.0175\n",
      "BFGSLineSearch:   49[ 94] 01:15:30     -456.491464        0.0092\n"
     ]
    }
   ],
   "source": [
    "tob9_ase.optimize(fmax=1e-2)"
   ]
  },
  {
   "cell_type": "code",
   "execution_count": 4,
   "id": "52d3c00e-5ffc-498b-a0e6-e4ab4a5affcf",
   "metadata": {},
   "outputs": [
    {
     "name": "stderr",
     "output_type": "stream",
     "text": [
      "INFO:schnetpack.interfaces.ase_interface:Loading model from best_model\n",
      "/home/zkm/.local/lib/python3.8/site-packages/ase/md/md.py:48: FutureWarning: Specify the temperature in K using the 'temperature_K' argument\n",
      "  warnings.warn(FutureWarning(w))\n"
     ]
    },
    {
     "ename": "KeyboardInterrupt",
     "evalue": "",
     "output_type": "error",
     "traceback": [
      "\u001b[0;31m---------------------------------------------------------------------------\u001b[0m",
      "\u001b[0;31mKeyboardInterrupt\u001b[0m                         Traceback (most recent call last)",
      "Cell \u001b[0;32mIn[4], line 30\u001b[0m\n\u001b[1;32m     19\u001b[0m get_ipython()\u001b[38;5;241m.\u001b[39msystem(\u001b[38;5;124m\"\u001b[39m\u001b[38;5;124mrm \u001b[39m\u001b[38;5;124m'\u001b[39m\u001b[38;5;124m./simulation_300K.traj\u001b[39m\u001b[38;5;124m'\u001b[39m\u001b[38;5;124m\"\u001b[39m)\n\u001b[1;32m     21\u001b[0m tob9_op_ase\u001b[38;5;241m.\u001b[39minit_md(\n\u001b[1;32m     22\u001b[0m     \u001b[38;5;124m'\u001b[39m\u001b[38;5;124msimulation_300K\u001b[39m\u001b[38;5;124m'\u001b[39m,\n\u001b[1;32m     23\u001b[0m     time_step\u001b[38;5;241m=\u001b[39m\u001b[38;5;241m0.5\u001b[39m, \u001b[38;5;66;03m#fs\u001b[39;00m\n\u001b[0;32m   (...)\u001b[0m\n\u001b[1;32m     27\u001b[0m     interval\u001b[38;5;241m=\u001b[39m\u001b[38;5;241m100\u001b[39m\n\u001b[1;32m     28\u001b[0m )\n\u001b[0;32m---> 30\u001b[0m \u001b[43mtob9_op_ase\u001b[49m\u001b[38;5;241;43m.\u001b[39;49m\u001b[43mrun_md\u001b[49m\u001b[43m(\u001b[49m\u001b[38;5;241;43m1000000\u001b[39;49m\u001b[43m)\u001b[49m\n",
      "File \u001b[0;32m~/anaconda3/envs/schnet/lib/python3.8/site-packages/schnetpack/interfaces/ase_interface.py:534\u001b[0m, in \u001b[0;36mAseInterface.run_md\u001b[0;34m(self, steps)\u001b[0m\n\u001b[1;32m    529\u001b[0m \u001b[38;5;28;01mif\u001b[39;00m \u001b[38;5;129;01mnot\u001b[39;00m \u001b[38;5;28mself\u001b[39m\u001b[38;5;241m.\u001b[39mdynamics:\n\u001b[1;32m    530\u001b[0m     \u001b[38;5;28;01mraise\u001b[39;00m \u001b[38;5;167;01mAttributeError\u001b[39;00m(\n\u001b[1;32m    531\u001b[0m         \u001b[38;5;124m\"\u001b[39m\u001b[38;5;124mDynamics need to be initialized using the\u001b[39m\u001b[38;5;124m\"\u001b[39m \u001b[38;5;124m\"\u001b[39m\u001b[38;5;124m \u001b[39m\u001b[38;5;124m'\u001b[39m\u001b[38;5;124msetup_md\u001b[39m\u001b[38;5;124m'\u001b[39m\u001b[38;5;124m function\u001b[39m\u001b[38;5;124m\"\u001b[39m\n\u001b[1;32m    532\u001b[0m     )\n\u001b[0;32m--> 534\u001b[0m \u001b[38;5;28;43mself\u001b[39;49m\u001b[38;5;241;43m.\u001b[39;49m\u001b[43mdynamics\u001b[49m\u001b[38;5;241;43m.\u001b[39;49m\u001b[43mrun\u001b[49m\u001b[43m(\u001b[49m\u001b[43msteps\u001b[49m\u001b[43m)\u001b[49m\n",
      "File \u001b[0;32m~/.local/lib/python3.8/site-packages/ase/md/md.py:137\u001b[0m, in \u001b[0;36mMolecularDynamics.run\u001b[0;34m(self, steps)\u001b[0m\n\u001b[1;32m    135\u001b[0m \u001b[38;5;250m\u001b[39m\u001b[38;5;124;03m\"\"\" Call Dynamics.run and adjust max_steps \"\"\"\u001b[39;00m\n\u001b[1;32m    136\u001b[0m \u001b[38;5;28mself\u001b[39m\u001b[38;5;241m.\u001b[39mmax_steps \u001b[38;5;241m=\u001b[39m steps \u001b[38;5;241m+\u001b[39m \u001b[38;5;28mself\u001b[39m\u001b[38;5;241m.\u001b[39mnsteps\n\u001b[0;32m--> 137\u001b[0m \u001b[38;5;28;01mreturn\u001b[39;00m \u001b[43mDynamics\u001b[49m\u001b[38;5;241;43m.\u001b[39;49m\u001b[43mrun\u001b[49m\u001b[43m(\u001b[49m\u001b[38;5;28;43mself\u001b[39;49m\u001b[43m)\u001b[49m\n",
      "File \u001b[0;32m~/.local/lib/python3.8/site-packages/ase/optimize/optimize.py:156\u001b[0m, in \u001b[0;36mDynamics.run\u001b[0;34m(self)\u001b[0m\n\u001b[1;32m    149\u001b[0m \u001b[38;5;28;01mdef\u001b[39;00m \u001b[38;5;21mrun\u001b[39m(\u001b[38;5;28mself\u001b[39m):\n\u001b[1;32m    150\u001b[0m \u001b[38;5;250m    \u001b[39m\u001b[38;5;124;03m\"\"\"Run dynamics algorithm.\u001b[39;00m\n\u001b[1;32m    151\u001b[0m \n\u001b[1;32m    152\u001b[0m \u001b[38;5;124;03m    This method will return when the forces on all individual\u001b[39;00m\n\u001b[1;32m    153\u001b[0m \u001b[38;5;124;03m    atoms are less than *fmax* or when the number of steps exceeds\u001b[39;00m\n\u001b[1;32m    154\u001b[0m \u001b[38;5;124;03m    *steps*.\"\"\"\u001b[39;00m\n\u001b[0;32m--> 156\u001b[0m     \u001b[38;5;28;01mfor\u001b[39;00m converged \u001b[38;5;129;01min\u001b[39;00m Dynamics\u001b[38;5;241m.\u001b[39mirun(\u001b[38;5;28mself\u001b[39m):\n\u001b[1;32m    157\u001b[0m         \u001b[38;5;28;01mpass\u001b[39;00m\n\u001b[1;32m    158\u001b[0m     \u001b[38;5;28;01mreturn\u001b[39;00m converged\n",
      "File \u001b[0;32m~/.local/lib/python3.8/site-packages/ase/optimize/optimize.py:135\u001b[0m, in \u001b[0;36mDynamics.irun\u001b[0;34m(self)\u001b[0m\n\u001b[1;32m    131\u001b[0m \u001b[38;5;66;03m# run the algorithm until converged or max_steps reached\u001b[39;00m\n\u001b[1;32m    132\u001b[0m \u001b[38;5;28;01mwhile\u001b[39;00m \u001b[38;5;129;01mnot\u001b[39;00m \u001b[38;5;28mself\u001b[39m\u001b[38;5;241m.\u001b[39mconverged() \u001b[38;5;129;01mand\u001b[39;00m \u001b[38;5;28mself\u001b[39m\u001b[38;5;241m.\u001b[39mnsteps \u001b[38;5;241m<\u001b[39m \u001b[38;5;28mself\u001b[39m\u001b[38;5;241m.\u001b[39mmax_steps:\n\u001b[1;32m    133\u001b[0m \n\u001b[1;32m    134\u001b[0m     \u001b[38;5;66;03m# compute the next step\u001b[39;00m\n\u001b[0;32m--> 135\u001b[0m     \u001b[38;5;28;43mself\u001b[39;49m\u001b[38;5;241;43m.\u001b[39;49m\u001b[43mstep\u001b[49m\u001b[43m(\u001b[49m\u001b[43m)\u001b[49m\n\u001b[1;32m    136\u001b[0m     \u001b[38;5;28mself\u001b[39m\u001b[38;5;241m.\u001b[39mnsteps \u001b[38;5;241m+\u001b[39m\u001b[38;5;241m=\u001b[39m \u001b[38;5;241m1\u001b[39m\n\u001b[1;32m    138\u001b[0m     \u001b[38;5;66;03m# let the user inspect the step and change things before logging\u001b[39;00m\n\u001b[1;32m    139\u001b[0m     \u001b[38;5;66;03m# and predicting the next step\u001b[39;00m\n",
      "File \u001b[0;32m~/.local/lib/python3.8/site-packages/ase/md/langevin.py:171\u001b[0m, in \u001b[0;36mLangevin.step\u001b[0;34m(self, forces)\u001b[0m\n\u001b[1;32m    168\u001b[0m \u001b[38;5;66;03m# recalc velocities after RATTLE constraints are applied\u001b[39;00m\n\u001b[1;32m    169\u001b[0m \u001b[38;5;28mself\u001b[39m\u001b[38;5;241m.\u001b[39mv \u001b[38;5;241m=\u001b[39m (\u001b[38;5;28mself\u001b[39m\u001b[38;5;241m.\u001b[39matoms\u001b[38;5;241m.\u001b[39mget_positions() \u001b[38;5;241m-\u001b[39m x \u001b[38;5;241m-\u001b[39m\n\u001b[1;32m    170\u001b[0m           \u001b[38;5;28mself\u001b[39m\u001b[38;5;241m.\u001b[39mc5 \u001b[38;5;241m*\u001b[39m \u001b[38;5;28mself\u001b[39m\u001b[38;5;241m.\u001b[39meta) \u001b[38;5;241m/\u001b[39m \u001b[38;5;28mself\u001b[39m\u001b[38;5;241m.\u001b[39mdt\n\u001b[0;32m--> 171\u001b[0m forces \u001b[38;5;241m=\u001b[39m \u001b[43matoms\u001b[49m\u001b[38;5;241;43m.\u001b[39;49m\u001b[43mget_forces\u001b[49m\u001b[43m(\u001b[49m\u001b[43mmd\u001b[49m\u001b[38;5;241;43m=\u001b[39;49m\u001b[38;5;28;43;01mTrue\u001b[39;49;00m\u001b[43m)\u001b[49m\n\u001b[1;32m    173\u001b[0m \u001b[38;5;66;03m# Update the velocities\u001b[39;00m\n\u001b[1;32m    174\u001b[0m \u001b[38;5;28mself\u001b[39m\u001b[38;5;241m.\u001b[39mv \u001b[38;5;241m+\u001b[39m\u001b[38;5;241m=\u001b[39m (\u001b[38;5;28mself\u001b[39m\u001b[38;5;241m.\u001b[39mc1 \u001b[38;5;241m*\u001b[39m forces \u001b[38;5;241m/\u001b[39m \u001b[38;5;28mself\u001b[39m\u001b[38;5;241m.\u001b[39mmasses \u001b[38;5;241m-\u001b[39m \u001b[38;5;28mself\u001b[39m\u001b[38;5;241m.\u001b[39mc2 \u001b[38;5;241m*\u001b[39m \u001b[38;5;28mself\u001b[39m\u001b[38;5;241m.\u001b[39mv \u001b[38;5;241m+\u001b[39m\n\u001b[1;32m    175\u001b[0m            \u001b[38;5;28mself\u001b[39m\u001b[38;5;241m.\u001b[39mc3 \u001b[38;5;241m*\u001b[39m \u001b[38;5;28mself\u001b[39m\u001b[38;5;241m.\u001b[39mxi \u001b[38;5;241m-\u001b[39m \u001b[38;5;28mself\u001b[39m\u001b[38;5;241m.\u001b[39mc4 \u001b[38;5;241m*\u001b[39m \u001b[38;5;28mself\u001b[39m\u001b[38;5;241m.\u001b[39meta)\n",
      "File \u001b[0;32m~/.local/lib/python3.8/site-packages/ase/atoms.py:788\u001b[0m, in \u001b[0;36mAtoms.get_forces\u001b[0;34m(self, apply_constraint, md)\u001b[0m\n\u001b[1;32m    786\u001b[0m \u001b[38;5;28;01mif\u001b[39;00m \u001b[38;5;28mself\u001b[39m\u001b[38;5;241m.\u001b[39m_calc \u001b[38;5;129;01mis\u001b[39;00m \u001b[38;5;28;01mNone\u001b[39;00m:\n\u001b[1;32m    787\u001b[0m     \u001b[38;5;28;01mraise\u001b[39;00m \u001b[38;5;167;01mRuntimeError\u001b[39;00m(\u001b[38;5;124m'\u001b[39m\u001b[38;5;124mAtoms object has no calculator.\u001b[39m\u001b[38;5;124m'\u001b[39m)\n\u001b[0;32m--> 788\u001b[0m forces \u001b[38;5;241m=\u001b[39m \u001b[38;5;28;43mself\u001b[39;49m\u001b[38;5;241;43m.\u001b[39;49m\u001b[43m_calc\u001b[49m\u001b[38;5;241;43m.\u001b[39;49m\u001b[43mget_forces\u001b[49m\u001b[43m(\u001b[49m\u001b[38;5;28;43mself\u001b[39;49m\u001b[43m)\u001b[49m\n\u001b[1;32m    790\u001b[0m \u001b[38;5;28;01mif\u001b[39;00m apply_constraint:\n\u001b[1;32m    791\u001b[0m     \u001b[38;5;66;03m# We need a special md flag here because for MD we want\u001b[39;00m\n\u001b[1;32m    792\u001b[0m     \u001b[38;5;66;03m# to skip real constraints but include special \"constraints\"\u001b[39;00m\n\u001b[1;32m    793\u001b[0m     \u001b[38;5;66;03m# Like Hookean.\u001b[39;00m\n\u001b[1;32m    794\u001b[0m     \u001b[38;5;28;01mfor\u001b[39;00m constraint \u001b[38;5;129;01min\u001b[39;00m \u001b[38;5;28mself\u001b[39m\u001b[38;5;241m.\u001b[39mconstraints:\n",
      "File \u001b[0;32m~/.local/lib/python3.8/site-packages/ase/calculators/abc.py:23\u001b[0m, in \u001b[0;36mGetPropertiesMixin.get_forces\u001b[0;34m(self, atoms)\u001b[0m\n\u001b[1;32m     22\u001b[0m \u001b[38;5;28;01mdef\u001b[39;00m \u001b[38;5;21mget_forces\u001b[39m(\u001b[38;5;28mself\u001b[39m, atoms\u001b[38;5;241m=\u001b[39m\u001b[38;5;28;01mNone\u001b[39;00m):\n\u001b[0;32m---> 23\u001b[0m     \u001b[38;5;28;01mreturn\u001b[39;00m \u001b[38;5;28;43mself\u001b[39;49m\u001b[38;5;241;43m.\u001b[39;49m\u001b[43mget_property\u001b[49m\u001b[43m(\u001b[49m\u001b[38;5;124;43m'\u001b[39;49m\u001b[38;5;124;43mforces\u001b[39;49m\u001b[38;5;124;43m'\u001b[39;49m\u001b[43m,\u001b[49m\u001b[43m \u001b[49m\u001b[43matoms\u001b[49m\u001b[43m)\u001b[49m\n",
      "File \u001b[0;32m~/.local/lib/python3.8/site-packages/ase/calculators/calculator.py:737\u001b[0m, in \u001b[0;36mCalculator.get_property\u001b[0;34m(self, name, atoms, allow_calculation)\u001b[0m\n\u001b[1;32m    735\u001b[0m     \u001b[38;5;28;01mif\u001b[39;00m \u001b[38;5;129;01mnot\u001b[39;00m allow_calculation:\n\u001b[1;32m    736\u001b[0m         \u001b[38;5;28;01mreturn\u001b[39;00m \u001b[38;5;28;01mNone\u001b[39;00m\n\u001b[0;32m--> 737\u001b[0m     \u001b[38;5;28;43mself\u001b[39;49m\u001b[38;5;241;43m.\u001b[39;49m\u001b[43mcalculate\u001b[49m\u001b[43m(\u001b[49m\u001b[43matoms\u001b[49m\u001b[43m,\u001b[49m\u001b[43m \u001b[49m\u001b[43m[\u001b[49m\u001b[43mname\u001b[49m\u001b[43m]\u001b[49m\u001b[43m,\u001b[49m\u001b[43m \u001b[49m\u001b[43msystem_changes\u001b[49m\u001b[43m)\u001b[49m\n\u001b[1;32m    739\u001b[0m \u001b[38;5;28;01mif\u001b[39;00m name \u001b[38;5;129;01mnot\u001b[39;00m \u001b[38;5;129;01min\u001b[39;00m \u001b[38;5;28mself\u001b[39m\u001b[38;5;241m.\u001b[39mresults:\n\u001b[1;32m    740\u001b[0m     \u001b[38;5;66;03m# For some reason the calculator was not able to do what we want,\u001b[39;00m\n\u001b[1;32m    741\u001b[0m     \u001b[38;5;66;03m# and that is OK.\u001b[39;00m\n\u001b[1;32m    742\u001b[0m     \u001b[38;5;28;01mraise\u001b[39;00m PropertyNotImplementedError(\u001b[38;5;124m'\u001b[39m\u001b[38;5;132;01m{}\u001b[39;00m\u001b[38;5;124m not present in this \u001b[39m\u001b[38;5;124m'\u001b[39m\n\u001b[1;32m    743\u001b[0m                                       \u001b[38;5;124m'\u001b[39m\u001b[38;5;124mcalculation\u001b[39m\u001b[38;5;124m'\u001b[39m\u001b[38;5;241m.\u001b[39mformat(name))\n",
      "File \u001b[0;32m~/anaconda3/envs/schnet/lib/python3.8/site-packages/schnetpack/interfaces/ase_interface.py:294\u001b[0m, in \u001b[0;36mSpkCalculator.calculate\u001b[0;34m(self, atoms, properties, system_changes)\u001b[0m\n\u001b[1;32m    292\u001b[0m \u001b[38;5;66;03m# Convert to schnetpack input format\u001b[39;00m\n\u001b[1;32m    293\u001b[0m model_inputs \u001b[38;5;241m=\u001b[39m \u001b[38;5;28mself\u001b[39m\u001b[38;5;241m.\u001b[39mconverter(atoms)\n\u001b[0;32m--> 294\u001b[0m model_results \u001b[38;5;241m=\u001b[39m \u001b[38;5;28;43mself\u001b[39;49m\u001b[38;5;241;43m.\u001b[39;49m\u001b[43mmodel\u001b[49m\u001b[43m(\u001b[49m\u001b[43mmodel_inputs\u001b[49m\u001b[43m)\u001b[49m\n\u001b[1;32m    296\u001b[0m results \u001b[38;5;241m=\u001b[39m {}\n\u001b[1;32m    297\u001b[0m \u001b[38;5;66;03m# TODO: use index information to slice everything properly\u001b[39;00m\n",
      "File \u001b[0;32m~/anaconda3/envs/schnet/lib/python3.8/site-packages/torch/nn/modules/module.py:1511\u001b[0m, in \u001b[0;36mModule._wrapped_call_impl\u001b[0;34m(self, *args, **kwargs)\u001b[0m\n\u001b[1;32m   1509\u001b[0m     \u001b[38;5;28;01mreturn\u001b[39;00m \u001b[38;5;28mself\u001b[39m\u001b[38;5;241m.\u001b[39m_compiled_call_impl(\u001b[38;5;241m*\u001b[39margs, \u001b[38;5;241m*\u001b[39m\u001b[38;5;241m*\u001b[39mkwargs)  \u001b[38;5;66;03m# type: ignore[misc]\u001b[39;00m\n\u001b[1;32m   1510\u001b[0m \u001b[38;5;28;01melse\u001b[39;00m:\n\u001b[0;32m-> 1511\u001b[0m     \u001b[38;5;28;01mreturn\u001b[39;00m \u001b[38;5;28;43mself\u001b[39;49m\u001b[38;5;241;43m.\u001b[39;49m\u001b[43m_call_impl\u001b[49m\u001b[43m(\u001b[49m\u001b[38;5;241;43m*\u001b[39;49m\u001b[43margs\u001b[49m\u001b[43m,\u001b[49m\u001b[43m \u001b[49m\u001b[38;5;241;43m*\u001b[39;49m\u001b[38;5;241;43m*\u001b[39;49m\u001b[43mkwargs\u001b[49m\u001b[43m)\u001b[49m\n",
      "File \u001b[0;32m~/anaconda3/envs/schnet/lib/python3.8/site-packages/torch/nn/modules/module.py:1520\u001b[0m, in \u001b[0;36mModule._call_impl\u001b[0;34m(self, *args, **kwargs)\u001b[0m\n\u001b[1;32m   1515\u001b[0m \u001b[38;5;66;03m# If we don't have any hooks, we want to skip the rest of the logic in\u001b[39;00m\n\u001b[1;32m   1516\u001b[0m \u001b[38;5;66;03m# this function, and just call forward.\u001b[39;00m\n\u001b[1;32m   1517\u001b[0m \u001b[38;5;28;01mif\u001b[39;00m \u001b[38;5;129;01mnot\u001b[39;00m (\u001b[38;5;28mself\u001b[39m\u001b[38;5;241m.\u001b[39m_backward_hooks \u001b[38;5;129;01mor\u001b[39;00m \u001b[38;5;28mself\u001b[39m\u001b[38;5;241m.\u001b[39m_backward_pre_hooks \u001b[38;5;129;01mor\u001b[39;00m \u001b[38;5;28mself\u001b[39m\u001b[38;5;241m.\u001b[39m_forward_hooks \u001b[38;5;129;01mor\u001b[39;00m \u001b[38;5;28mself\u001b[39m\u001b[38;5;241m.\u001b[39m_forward_pre_hooks\n\u001b[1;32m   1518\u001b[0m         \u001b[38;5;129;01mor\u001b[39;00m _global_backward_pre_hooks \u001b[38;5;129;01mor\u001b[39;00m _global_backward_hooks\n\u001b[1;32m   1519\u001b[0m         \u001b[38;5;129;01mor\u001b[39;00m _global_forward_hooks \u001b[38;5;129;01mor\u001b[39;00m _global_forward_pre_hooks):\n\u001b[0;32m-> 1520\u001b[0m     \u001b[38;5;28;01mreturn\u001b[39;00m \u001b[43mforward_call\u001b[49m\u001b[43m(\u001b[49m\u001b[38;5;241;43m*\u001b[39;49m\u001b[43margs\u001b[49m\u001b[43m,\u001b[49m\u001b[43m \u001b[49m\u001b[38;5;241;43m*\u001b[39;49m\u001b[38;5;241;43m*\u001b[39;49m\u001b[43mkwargs\u001b[49m\u001b[43m)\u001b[49m\n\u001b[1;32m   1522\u001b[0m \u001b[38;5;28;01mtry\u001b[39;00m:\n\u001b[1;32m   1523\u001b[0m     result \u001b[38;5;241m=\u001b[39m \u001b[38;5;28;01mNone\u001b[39;00m\n",
      "File \u001b[0;32m~/anaconda3/envs/schnet/lib/python3.8/site-packages/schnetpack/model/base.py:179\u001b[0m, in \u001b[0;36mNeuralNetworkPotential.forward\u001b[0;34m(self, inputs)\u001b[0m\n\u001b[1;32m    176\u001b[0m \u001b[38;5;28;01mfor\u001b[39;00m m \u001b[38;5;129;01min\u001b[39;00m \u001b[38;5;28mself\u001b[39m\u001b[38;5;241m.\u001b[39minput_modules:\n\u001b[1;32m    177\u001b[0m     inputs \u001b[38;5;241m=\u001b[39m m(inputs)\n\u001b[0;32m--> 179\u001b[0m inputs \u001b[38;5;241m=\u001b[39m \u001b[38;5;28;43mself\u001b[39;49m\u001b[38;5;241;43m.\u001b[39;49m\u001b[43mrepresentation\u001b[49m\u001b[43m(\u001b[49m\u001b[43minputs\u001b[49m\u001b[43m)\u001b[49m\n\u001b[1;32m    181\u001b[0m \u001b[38;5;28;01mfor\u001b[39;00m m \u001b[38;5;129;01min\u001b[39;00m \u001b[38;5;28mself\u001b[39m\u001b[38;5;241m.\u001b[39moutput_modules:\n\u001b[1;32m    182\u001b[0m     inputs \u001b[38;5;241m=\u001b[39m m(inputs)\n",
      "File \u001b[0;32m~/anaconda3/envs/schnet/lib/python3.8/site-packages/torch/nn/modules/module.py:1511\u001b[0m, in \u001b[0;36mModule._wrapped_call_impl\u001b[0;34m(self, *args, **kwargs)\u001b[0m\n\u001b[1;32m   1509\u001b[0m     \u001b[38;5;28;01mreturn\u001b[39;00m \u001b[38;5;28mself\u001b[39m\u001b[38;5;241m.\u001b[39m_compiled_call_impl(\u001b[38;5;241m*\u001b[39margs, \u001b[38;5;241m*\u001b[39m\u001b[38;5;241m*\u001b[39mkwargs)  \u001b[38;5;66;03m# type: ignore[misc]\u001b[39;00m\n\u001b[1;32m   1510\u001b[0m \u001b[38;5;28;01melse\u001b[39;00m:\n\u001b[0;32m-> 1511\u001b[0m     \u001b[38;5;28;01mreturn\u001b[39;00m \u001b[38;5;28;43mself\u001b[39;49m\u001b[38;5;241;43m.\u001b[39;49m\u001b[43m_call_impl\u001b[49m\u001b[43m(\u001b[49m\u001b[38;5;241;43m*\u001b[39;49m\u001b[43margs\u001b[49m\u001b[43m,\u001b[49m\u001b[43m \u001b[49m\u001b[38;5;241;43m*\u001b[39;49m\u001b[38;5;241;43m*\u001b[39;49m\u001b[43mkwargs\u001b[49m\u001b[43m)\u001b[49m\n",
      "File \u001b[0;32m~/anaconda3/envs/schnet/lib/python3.8/site-packages/torch/nn/modules/module.py:1520\u001b[0m, in \u001b[0;36mModule._call_impl\u001b[0;34m(self, *args, **kwargs)\u001b[0m\n\u001b[1;32m   1515\u001b[0m \u001b[38;5;66;03m# If we don't have any hooks, we want to skip the rest of the logic in\u001b[39;00m\n\u001b[1;32m   1516\u001b[0m \u001b[38;5;66;03m# this function, and just call forward.\u001b[39;00m\n\u001b[1;32m   1517\u001b[0m \u001b[38;5;28;01mif\u001b[39;00m \u001b[38;5;129;01mnot\u001b[39;00m (\u001b[38;5;28mself\u001b[39m\u001b[38;5;241m.\u001b[39m_backward_hooks \u001b[38;5;129;01mor\u001b[39;00m \u001b[38;5;28mself\u001b[39m\u001b[38;5;241m.\u001b[39m_backward_pre_hooks \u001b[38;5;129;01mor\u001b[39;00m \u001b[38;5;28mself\u001b[39m\u001b[38;5;241m.\u001b[39m_forward_hooks \u001b[38;5;129;01mor\u001b[39;00m \u001b[38;5;28mself\u001b[39m\u001b[38;5;241m.\u001b[39m_forward_pre_hooks\n\u001b[1;32m   1518\u001b[0m         \u001b[38;5;129;01mor\u001b[39;00m _global_backward_pre_hooks \u001b[38;5;129;01mor\u001b[39;00m _global_backward_hooks\n\u001b[1;32m   1519\u001b[0m         \u001b[38;5;129;01mor\u001b[39;00m _global_forward_hooks \u001b[38;5;129;01mor\u001b[39;00m _global_forward_pre_hooks):\n\u001b[0;32m-> 1520\u001b[0m     \u001b[38;5;28;01mreturn\u001b[39;00m \u001b[43mforward_call\u001b[49m\u001b[43m(\u001b[49m\u001b[38;5;241;43m*\u001b[39;49m\u001b[43margs\u001b[49m\u001b[43m,\u001b[49m\u001b[43m \u001b[49m\u001b[38;5;241;43m*\u001b[39;49m\u001b[38;5;241;43m*\u001b[39;49m\u001b[43mkwargs\u001b[49m\u001b[43m)\u001b[49m\n\u001b[1;32m   1522\u001b[0m \u001b[38;5;28;01mtry\u001b[39;00m:\n\u001b[1;32m   1523\u001b[0m     result \u001b[38;5;241m=\u001b[39m \u001b[38;5;28;01mNone\u001b[39;00m\n",
      "File \u001b[0;32m~/anaconda3/envs/schnet/lib/python3.8/site-packages/schnetpack/representation/painn.py:232\u001b[0m, in \u001b[0;36mPaiNN.forward\u001b[0;34m(self, inputs)\u001b[0m\n\u001b[1;32m    230\u001b[0m \u001b[38;5;28;01mfor\u001b[39;00m i, (interaction, mixing) \u001b[38;5;129;01min\u001b[39;00m \u001b[38;5;28menumerate\u001b[39m(\u001b[38;5;28mzip\u001b[39m(\u001b[38;5;28mself\u001b[39m\u001b[38;5;241m.\u001b[39minteractions, \u001b[38;5;28mself\u001b[39m\u001b[38;5;241m.\u001b[39mmixing)):\n\u001b[1;32m    231\u001b[0m     q, mu \u001b[38;5;241m=\u001b[39m interaction(q, mu, filter_list[i], dir_ij, idx_i, idx_j, n_atoms)\n\u001b[0;32m--> 232\u001b[0m     q, mu \u001b[38;5;241m=\u001b[39m \u001b[43mmixing\u001b[49m\u001b[43m(\u001b[49m\u001b[43mq\u001b[49m\u001b[43m,\u001b[49m\u001b[43m \u001b[49m\u001b[43mmu\u001b[49m\u001b[43m)\u001b[49m\n\u001b[1;32m    234\u001b[0m q \u001b[38;5;241m=\u001b[39m q\u001b[38;5;241m.\u001b[39msqueeze(\u001b[38;5;241m1\u001b[39m)\n\u001b[1;32m    236\u001b[0m inputs[\u001b[38;5;124m\"\u001b[39m\u001b[38;5;124mscalar_representation\u001b[39m\u001b[38;5;124m\"\u001b[39m] \u001b[38;5;241m=\u001b[39m q\n",
      "File \u001b[0;32m~/anaconda3/envs/schnet/lib/python3.8/site-packages/torch/nn/modules/module.py:1511\u001b[0m, in \u001b[0;36mModule._wrapped_call_impl\u001b[0;34m(self, *args, **kwargs)\u001b[0m\n\u001b[1;32m   1509\u001b[0m     \u001b[38;5;28;01mreturn\u001b[39;00m \u001b[38;5;28mself\u001b[39m\u001b[38;5;241m.\u001b[39m_compiled_call_impl(\u001b[38;5;241m*\u001b[39margs, \u001b[38;5;241m*\u001b[39m\u001b[38;5;241m*\u001b[39mkwargs)  \u001b[38;5;66;03m# type: ignore[misc]\u001b[39;00m\n\u001b[1;32m   1510\u001b[0m \u001b[38;5;28;01melse\u001b[39;00m:\n\u001b[0;32m-> 1511\u001b[0m     \u001b[38;5;28;01mreturn\u001b[39;00m \u001b[38;5;28;43mself\u001b[39;49m\u001b[38;5;241;43m.\u001b[39;49m\u001b[43m_call_impl\u001b[49m\u001b[43m(\u001b[49m\u001b[38;5;241;43m*\u001b[39;49m\u001b[43margs\u001b[49m\u001b[43m,\u001b[49m\u001b[43m \u001b[49m\u001b[38;5;241;43m*\u001b[39;49m\u001b[38;5;241;43m*\u001b[39;49m\u001b[43mkwargs\u001b[49m\u001b[43m)\u001b[49m\n",
      "File \u001b[0;32m~/anaconda3/envs/schnet/lib/python3.8/site-packages/torch/nn/modules/module.py:1520\u001b[0m, in \u001b[0;36mModule._call_impl\u001b[0;34m(self, *args, **kwargs)\u001b[0m\n\u001b[1;32m   1515\u001b[0m \u001b[38;5;66;03m# If we don't have any hooks, we want to skip the rest of the logic in\u001b[39;00m\n\u001b[1;32m   1516\u001b[0m \u001b[38;5;66;03m# this function, and just call forward.\u001b[39;00m\n\u001b[1;32m   1517\u001b[0m \u001b[38;5;28;01mif\u001b[39;00m \u001b[38;5;129;01mnot\u001b[39;00m (\u001b[38;5;28mself\u001b[39m\u001b[38;5;241m.\u001b[39m_backward_hooks \u001b[38;5;129;01mor\u001b[39;00m \u001b[38;5;28mself\u001b[39m\u001b[38;5;241m.\u001b[39m_backward_pre_hooks \u001b[38;5;129;01mor\u001b[39;00m \u001b[38;5;28mself\u001b[39m\u001b[38;5;241m.\u001b[39m_forward_hooks \u001b[38;5;129;01mor\u001b[39;00m \u001b[38;5;28mself\u001b[39m\u001b[38;5;241m.\u001b[39m_forward_pre_hooks\n\u001b[1;32m   1518\u001b[0m         \u001b[38;5;129;01mor\u001b[39;00m _global_backward_pre_hooks \u001b[38;5;129;01mor\u001b[39;00m _global_backward_hooks\n\u001b[1;32m   1519\u001b[0m         \u001b[38;5;129;01mor\u001b[39;00m _global_forward_hooks \u001b[38;5;129;01mor\u001b[39;00m _global_forward_pre_hooks):\n\u001b[0;32m-> 1520\u001b[0m     \u001b[38;5;28;01mreturn\u001b[39;00m \u001b[43mforward_call\u001b[49m\u001b[43m(\u001b[49m\u001b[38;5;241;43m*\u001b[39;49m\u001b[43margs\u001b[49m\u001b[43m,\u001b[49m\u001b[43m \u001b[49m\u001b[38;5;241;43m*\u001b[39;49m\u001b[38;5;241;43m*\u001b[39;49m\u001b[43mkwargs\u001b[49m\u001b[43m)\u001b[49m\n\u001b[1;32m   1522\u001b[0m \u001b[38;5;28;01mtry\u001b[39;00m:\n\u001b[1;32m   1523\u001b[0m     result \u001b[38;5;241m=\u001b[39m \u001b[38;5;28;01mNone\u001b[39;00m\n",
      "File \u001b[0;32m~/anaconda3/envs/schnet/lib/python3.8/site-packages/schnetpack/representation/painn.py:105\u001b[0m, in \u001b[0;36mPaiNNMixing.forward\u001b[0;34m(self, q, mu)\u001b[0m\n\u001b[1;32m    103\u001b[0m mu_mix \u001b[38;5;241m=\u001b[39m \u001b[38;5;28mself\u001b[39m\u001b[38;5;241m.\u001b[39mmu_channel_mix(mu)\n\u001b[1;32m    104\u001b[0m mu_V, mu_W \u001b[38;5;241m=\u001b[39m torch\u001b[38;5;241m.\u001b[39msplit(mu_mix, \u001b[38;5;28mself\u001b[39m\u001b[38;5;241m.\u001b[39mn_atom_basis, dim\u001b[38;5;241m=\u001b[39m\u001b[38;5;241m-\u001b[39m\u001b[38;5;241m1\u001b[39m)\n\u001b[0;32m--> 105\u001b[0m mu_Vn \u001b[38;5;241m=\u001b[39m torch\u001b[38;5;241m.\u001b[39msqrt(torch\u001b[38;5;241m.\u001b[39msum(\u001b[43mmu_V\u001b[49m\u001b[38;5;241;43m*\u001b[39;49m\u001b[38;5;241;43m*\u001b[39;49m\u001b[38;5;241;43m2\u001b[39;49m, dim\u001b[38;5;241m=\u001b[39m\u001b[38;5;241m-\u001b[39m\u001b[38;5;241m2\u001b[39m, keepdim\u001b[38;5;241m=\u001b[39m\u001b[38;5;28;01mTrue\u001b[39;00m) \u001b[38;5;241m+\u001b[39m \u001b[38;5;28mself\u001b[39m\u001b[38;5;241m.\u001b[39mepsilon)\n\u001b[1;32m    107\u001b[0m ctx \u001b[38;5;241m=\u001b[39m torch\u001b[38;5;241m.\u001b[39mcat([q, mu_Vn], dim\u001b[38;5;241m=\u001b[39m\u001b[38;5;241m-\u001b[39m\u001b[38;5;241m1\u001b[39m)\n\u001b[1;32m    108\u001b[0m x \u001b[38;5;241m=\u001b[39m \u001b[38;5;28mself\u001b[39m\u001b[38;5;241m.\u001b[39mintraatomic_context_net(ctx)\n",
      "File \u001b[0;32m~/anaconda3/envs/schnet/lib/python3.8/site-packages/torch/_tensor.py:40\u001b[0m, in \u001b[0;36m_handle_torch_function_and_wrap_type_error_to_not_implemented.<locals>.wrapped\u001b[0;34m(*args, **kwargs)\u001b[0m\n\u001b[1;32m     38\u001b[0m     \u001b[38;5;28;01mif\u001b[39;00m has_torch_function(args):\n\u001b[1;32m     39\u001b[0m         \u001b[38;5;28;01mreturn\u001b[39;00m handle_torch_function(wrapped, args, \u001b[38;5;241m*\u001b[39margs, \u001b[38;5;241m*\u001b[39m\u001b[38;5;241m*\u001b[39mkwargs)\n\u001b[0;32m---> 40\u001b[0m     \u001b[38;5;28;01mreturn\u001b[39;00m \u001b[43mf\u001b[49m\u001b[43m(\u001b[49m\u001b[38;5;241;43m*\u001b[39;49m\u001b[43margs\u001b[49m\u001b[43m,\u001b[49m\u001b[43m \u001b[49m\u001b[38;5;241;43m*\u001b[39;49m\u001b[38;5;241;43m*\u001b[39;49m\u001b[43mkwargs\u001b[49m\u001b[43m)\u001b[49m\n\u001b[1;32m     41\u001b[0m \u001b[38;5;28;01mexcept\u001b[39;00m \u001b[38;5;167;01mTypeError\u001b[39;00m:\n\u001b[1;32m     42\u001b[0m     \u001b[38;5;28;01mreturn\u001b[39;00m \u001b[38;5;28mNotImplemented\u001b[39m\n",
      "\u001b[0;31mKeyboardInterrupt\u001b[0m: "
     ]
    }
   ],
   "source": [
    "molecule_path = 'optimization.extxyz'\n",
    "ase_dir = './'\n",
    "model_path = \"best_model\"\n",
    "\n",
    "tob9_op_ase = spk.interfaces.AseInterface(\n",
    "    molecule_path,\n",
    "    ase_dir,\n",
    "    model_file=model_path,\n",
    "    neighbor_list=trn.ASENeighborList(cutoff=4.0),\n",
    "    energy_key=MD17.energy,\n",
    "    force_key=MD17.forces,\n",
    "    energy_unit=\"eV\",\n",
    "    position_unit=\"Ang\",\n",
    "    device=\"cuda\",\n",
    "    dtype=torch.float64,\n",
    ")\n",
    "\n",
    "!rm './simulation_300K.log'\n",
    "!rm './simulation_300K.traj'\n",
    "\n",
    "tob9_op_ase.init_md(\n",
    "    'simulation_300K',\n",
    "    time_step=0.5, #fs\n",
    "    temp_init=300,\n",
    "    temp_bath=300, #NVT None:NVE\n",
    "    reset=True,\n",
    "    interval=100\n",
    ")\n",
    "\n",
    "tob9_op_ase.run_md(1000000)"
   ]
  }
 ],
 "metadata": {
  "kernelspec": {
   "display_name": "schnet",
   "language": "python",
   "name": "schnet"
  },
  "language_info": {
   "codemirror_mode": {
    "name": "ipython",
    "version": 3
   },
   "file_extension": ".py",
   "mimetype": "text/x-python",
   "name": "python",
   "nbconvert_exporter": "python",
   "pygments_lexer": "ipython3",
   "version": "3.8.18"
  }
 },
 "nbformat": 4,
 "nbformat_minor": 5
}
