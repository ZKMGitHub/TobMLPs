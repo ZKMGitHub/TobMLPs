{
 "cells": [
  {
   "cell_type": "code",
   "execution_count": 1,
   "id": "949228cd-5827-4bcf-880b-e35337c97ced",
   "metadata": {},
   "outputs": [],
   "source": [
    "from ase import Atoms, io\n",
    "import torch\n",
    "import schnetpack as spk\n",
    "from schnetpack.data import AtomsDataModule\n",
    "from schnetpack.datasets import MD17\n",
    "import schnetpack.transform as trn\n",
    "\n",
    "device = torch.device(\"cuda\")"
   ]
  },
  {
   "cell_type": "code",
   "execution_count": 2,
   "id": "78dd6e11-228b-47da-ad4d-2edf997fdc28",
   "metadata": {},
   "outputs": [],
   "source": [
    "model_path = \"best_model\"\n",
    "best_model = torch.load(model_path, map_location=device)"
   ]
  },
  {
   "cell_type": "code",
   "execution_count": 3,
   "id": "98a76db0-03f7-4f6e-ade3-ef3485349a5c",
   "metadata": {},
   "outputs": [
    {
     "name": "stderr",
     "output_type": "stream",
     "text": [
      "INFO:schnetpack.interfaces.ase_interface:Loading model from best_model\n"
     ]
    }
   ],
   "source": [
    "molecule_path = 'tob9.xyz'\n",
    "ase_dir = './'\n",
    "model_path = \"best_model\"\n",
    "\n",
    "tob9_ase = spk.interfaces.AseInterface(\n",
    "    molecule_path,\n",
    "    ase_dir,\n",
    "    model_file=model_path,\n",
    "    neighbor_list=trn.ASENeighborList(cutoff=4.0),\n",
    "    energy_key=MD17.energy,\n",
    "    force_key=MD17.forces,\n",
    "    energy_unit=\"eV\",\n",
    "    position_unit=\"Ang\",\n",
    "    device=\"cuda\",\n",
    "    dtype=torch.float64,\n",
    ")"
   ]
  },
  {
   "cell_type": "code",
   "execution_count": 13,
   "id": "5cf06c45-5416-4578-9e1e-a5dbb55b1f96",
   "metadata": {
    "scrolled": true
   },
   "outputs": [
    {
     "name": "stdout",
     "output_type": "stream",
     "text": [
      "                Step[ FC]     Time          Energy          fmax\n",
      "BFGSLineSearch:    0[  0] 00:11:10     -452.868389        4.1361\n",
      "BFGSLineSearch:    1[  2] 00:11:11     -454.500405        1.7674\n",
      "BFGSLineSearch:    2[  4] 00:11:12     -455.411541        1.5567\n",
      "BFGSLineSearch:    3[  6] 00:11:12     -455.718479        1.3795\n",
      "BFGSLineSearch:    4[  8] 00:11:13     -455.939484        0.9459\n",
      "BFGSLineSearch:    5[ 10] 00:11:13     -456.056744        0.6599\n",
      "BFGSLineSearch:    6[ 12] 00:11:14     -456.172888        0.7813\n",
      "BFGSLineSearch:    7[ 14] 00:11:14     -456.257469        0.4504\n",
      "BFGSLineSearch:    8[ 16] 00:11:15     -456.297418        0.3574\n",
      "BFGSLineSearch:    9[ 18] 00:11:16     -456.339613        0.4531\n",
      "BFGSLineSearch:   10[ 20] 00:11:16     -456.366286        0.4067\n",
      "BFGSLineSearch:   11[ 22] 00:11:17     -456.392350        0.3296\n",
      "BFGSLineSearch:   12[ 24] 00:11:17     -456.410940        0.2344\n",
      "BFGSLineSearch:   13[ 26] 00:11:18     -456.426084        0.2002\n",
      "BFGSLineSearch:   14[ 28] 00:11:19     -456.435021        0.2385\n",
      "BFGSLineSearch:   15[ 30] 00:11:19     -456.448954        0.1847\n",
      "BFGSLineSearch:   16[ 32] 00:11:20     -456.455036        0.1506\n",
      "BFGSLineSearch:   17[ 34] 00:11:20     -456.462565        0.1669\n",
      "BFGSLineSearch:   18[ 36] 00:11:21     -456.467983        0.1243\n",
      "BFGSLineSearch:   19[ 38] 00:11:21     -456.471412        0.1199\n",
      "BFGSLineSearch:   20[ 40] 00:11:22     -456.474353        0.1064\n",
      "BFGSLineSearch:   21[ 42] 00:11:23     -456.477022        0.0724\n",
      "BFGSLineSearch:   22[ 44] 00:11:23     -456.478030        0.0595\n",
      "BFGSLineSearch:   23[ 45] 00:11:24     -456.479590        0.1072\n",
      "BFGSLineSearch:   24[ 47] 00:11:24     -456.480422        0.0522\n",
      "BFGSLineSearch:   25[ 49] 00:11:25     -456.481355        0.0529\n",
      "BFGSLineSearch:   26[ 51] 00:11:25     -456.481959        0.0529\n",
      "BFGSLineSearch:   27[ 53] 00:11:26     -456.482751        0.0536\n",
      "BFGSLineSearch:   28[ 55] 00:11:26     -456.483358        0.0617\n",
      "BFGSLineSearch:   29[ 57] 00:11:27     -456.484558        0.0863\n",
      "BFGSLineSearch:   30[ 59] 00:11:27     -456.485286        0.0594\n",
      "BFGSLineSearch:   31[ 61] 00:11:28     -456.485958        0.0666\n",
      "BFGSLineSearch:   32[ 63] 00:11:29     -456.486897        0.0626\n",
      "BFGSLineSearch:   33[ 65] 00:11:29     -456.487910        0.0596\n",
      "BFGSLineSearch:   34[ 67] 00:11:30     -456.488859        0.0654\n",
      "BFGSLineSearch:   35[ 69] 00:11:30     -456.489946        0.0570\n",
      "BFGSLineSearch:   36[ 71] 00:11:31     -456.490456        0.0560\n",
      "BFGSLineSearch:   37[ 72] 00:11:31     -456.491539        0.0862\n",
      "BFGSLineSearch:   38[ 74] 00:11:32     -456.492165        0.0413\n",
      "BFGSLineSearch:   39[ 76] 00:11:32     -456.492994        0.0466\n",
      "BFGSLineSearch:   40[ 78] 00:11:33     -456.493523        0.0377\n",
      "BFGSLineSearch:   41[ 80] 00:11:33     -456.494021        0.0415\n",
      "BFGSLineSearch:   42[ 82] 00:11:34     -456.494630        0.0430\n",
      "BFGSLineSearch:   43[ 84] 00:11:35     -456.495091        0.0254\n",
      "BFGSLineSearch:   44[ 86] 00:11:35     -456.495343        0.0387\n",
      "BFGSLineSearch:   45[ 88] 00:11:36     -456.495704        0.0266\n",
      "BFGSLineSearch:   46[ 90] 00:11:36     -456.495968        0.0375\n",
      "BFGSLineSearch:   47[ 92] 00:11:37     -456.496154        0.0260\n",
      "BFGSLineSearch:   48[ 94] 00:11:38     -456.496349        0.0246\n",
      "BFGSLineSearch:   49[ 96] 00:11:38     -456.496470        0.0159\n",
      "BFGSLineSearch:   50[ 97] 00:11:39     -456.496646        0.0288\n",
      "BFGSLineSearch:   51[ 99] 00:11:39     -456.496737        0.0133\n",
      "BFGSLineSearch:   52[101] 00:11:40     -456.496802        0.0175\n",
      "BFGSLineSearch:   53[103] 00:11:40     -456.496871        0.0114\n",
      "BFGSLineSearch:   54[104] 00:11:41     -456.496916        0.0213\n",
      "BFGSLineSearch:   55[106] 00:11:41     -456.496959        0.0122\n",
      "BFGSLineSearch:   56[108] 00:11:42     -456.497003        0.0122\n",
      "BFGSLineSearch:   57[110] 00:11:42     -456.497035        0.0124\n",
      "BFGSLineSearch:   58[112] 00:11:43     -456.497067        0.0105\n",
      "BFGSLineSearch:   59[114] 00:11:44     -456.497090        0.0088\n"
     ]
    }
   ],
   "source": [
    "tob9_ase.optimize(fmax=1e-2)"
   ]
  },
  {
   "cell_type": "code",
   "execution_count": 4,
   "id": "52d3c00e-5ffc-498b-a0e6-e4ab4a5affcf",
   "metadata": {},
   "outputs": [
    {
     "name": "stderr",
     "output_type": "stream",
     "text": [
      "INFO:schnetpack.interfaces.ase_interface:Loading model from best_model\n",
      "/home/zkm/.local/lib/python3.8/site-packages/ase/md/md.py:48: FutureWarning: Specify the temperature in K using the 'temperature_K' argument\n",
      "  warnings.warn(FutureWarning(w))\n"
     ]
    }
   ],
   "source": [
    "molecule_path = 'optimization.extxyz'\n",
    "ase_dir = './'\n",
    "model_path = \"best_model\"\n",
    "\n",
    "tob9_op_ase = spk.interfaces.AseInterface(\n",
    "    molecule_path,\n",
    "    ase_dir,\n",
    "    model_file=model_path,\n",
    "    neighbor_list=trn.ASENeighborList(cutoff=4.0),\n",
    "    energy_key=MD17.energy,\n",
    "    force_key=MD17.forces,\n",
    "    energy_unit=\"eV\",\n",
    "    position_unit=\"Ang\",\n",
    "    device=\"cuda\",\n",
    "    dtype=torch.float64,\n",
    ")\n",
    "\n",
    "!rm './simulation_300K.log'\n",
    "!rm './simulation_300K.traj'\n",
    "\n",
    "tob9_op_ase.init_md(\n",
    "    'simulation_300K',\n",
    "    time_step=0.5, #fs\n",
    "    temp_init=300,\n",
    "    temp_bath=300, #NVT None:NVE\n",
    "    reset=True,\n",
    "    interval=100\n",
    ")\n",
    "\n",
    "tob9_op_ase.run_md(1000000)"
   ]
  }
 ],
 "metadata": {
  "kernelspec": {
   "display_name": "schnet",
   "language": "python",
   "name": "schnet"
  },
  "language_info": {
   "codemirror_mode": {
    "name": "ipython",
    "version": 3
   },
   "file_extension": ".py",
   "mimetype": "text/x-python",
   "name": "python",
   "nbconvert_exporter": "python",
   "pygments_lexer": "ipython3",
   "version": "3.8.18"
  }
 },
 "nbformat": 4,
 "nbformat_minor": 5
}
