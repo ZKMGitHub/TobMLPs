{
 "cells": [
  {
   "cell_type": "code",
   "execution_count": 2,
   "id": "9411fd9a-dc17-4861-a4f2-34173e7ad031",
   "metadata": {},
   "outputs": [],
   "source": [
    "import torch\n",
    "import yaml\n",
    "import ast\n",
    "#from dig.threedgraph.dataset import QM93D\n",
    "from dig.threedgraph.dataset import MD17\n",
    "from dig.threedgraph.dataset.PygTobermorite import Tobermorite\n",
    "from dig.threedgraph.method import DimeNetPP,SchNet,SphereNet #SchNet, DimeNetPP, ComENet\n",
    "from dig.threedgraph.method import run\n",
    "from dig.threedgraph.evaluation import ThreeDEvaluator"
   ]
  },
  {
   "cell_type": "markdown",
   "id": "3460db5a-1f83-4681-a062-3c16131fce8b",
   "metadata": {},
   "source": [
    "# Load configs"
   ]
  },
  {
   "cell_type": "code",
   "execution_count": 3,
   "id": "436d2586-0e13-4413-b8b8-fe9497498970",
   "metadata": {},
   "outputs": [],
   "source": [
    "with open('config.yaml', 'r') as c:\n",
    "    config = yaml.safe_load(c)\n",
    "    \n",
    "# For strings that yaml doesn't parse (e.g. None)\n",
    "for key, val in config.items():\n",
    "    if type(val) is str:\n",
    "        try:\n",
    "            config[key] = ast.literal_eval(val)\n",
    "        except (ValueError, SyntaxError):\n",
    "            pass"
   ]
  },
  {
   "cell_type": "code",
   "execution_count": 4,
   "id": "a2e5e5a5-66b5-4c0e-aeaf-282bef6ab59f",
   "metadata": {},
   "outputs": [],
   "source": [
    "name = config['name']\n",
    "n_train = config['n_train']\n",
    "n_val = config['n_val']\n",
    "seed = config['seed']\n",
    "energy_and_force = config['energy_and_force']\n",
    "cutoff = config['cutoff']\n",
    "num_layers = config['num_layers']\n",
    "hidden_channels = config['hidden_channels']\n",
    "out_channels = config['out_channels']\n",
    "int_emb_size = config['int_emb_size']\n",
    "basis_emb_size = config['basis_emb_size']\n",
    "out_emb_channels = config['out_emb_channels']\n",
    "num_spherical = config['num_spherical']\n",
    "num_radial = config['num_radial']\n",
    "envelope_exponent = config['envelope_exponent']\n",
    "num_before_skip = config['num_before_skip']\n",
    "num_after_skip = config['num_after_skip']\n",
    "num_output_layers = config['num_output_layers']\n",
    "\n",
    "epochs = config['epochs']\n",
    "batch_size = config['batch_size']\n",
    "vt_batch_size = config['vt_batch_size']\n",
    "lr = config['lr']\n",
    "lr_decay_factor = config['lr_decay_factor']\n",
    "lr_decay_step_size = config['lr_decay_step_size']"
   ]
  },
  {
   "cell_type": "code",
   "execution_count": 5,
   "id": "5beaf41b-9790-4623-bc7d-d063e8885538",
   "metadata": {},
   "outputs": [
    {
     "data": {
      "text/plain": [
       "device(type='cuda', index=0)"
      ]
     },
     "execution_count": 5,
     "metadata": {},
     "output_type": "execute_result"
    }
   ],
   "source": [
    "device = torch.device('cuda:0') if torch.cuda.is_available() else torch.device(\"cpu\")\n",
    "device"
   ]
  },
  {
   "cell_type": "markdown",
   "id": "129b68a6-872d-4a84-bf50-a2b42bf1bb9c",
   "metadata": {},
   "source": [
    "# Dataset"
   ]
  },
  {
   "cell_type": "code",
   "execution_count": 6,
   "id": "b266ae8b-a254-4751-9a8d-78ab2d21cecc",
   "metadata": {
    "scrolled": true
   },
   "outputs": [
    {
     "name": "stdout",
     "output_type": "stream",
     "text": [
      "train, validaion, test: 950 50 6000\n"
     ]
    },
    {
     "name": "stderr",
     "output_type": "stream",
     "text": [
      "/home/zkm/anaconda3/envs/spherenet/lib/python3.10/site-packages/torch_geometric/data/in_memory_dataset.py:300: UserWarning: It is not recommended to directly access the internal storage format `data` of an 'InMemoryDataset'. If you are absolutely certain what you are doing, access the internal storage via `InMemoryDataset._data` instead to suppress this warning. Alternatively, you can access stacked individual attributes of every graph via `dataset.{attr_name}`.\n",
      "  warnings.warn(msg)\n"
     ]
    }
   ],
   "source": [
    "dataset = Tobermorite(root='dataset/', name=name)\n",
    "\n",
    "split_idx = dataset.get_idx_split(len(dataset.data.y), train_size=n_train, valid_size=n_val, seed=seed)\n",
    "\n",
    "train_dataset, valid_dataset, test_dataset = dataset[split_idx['train']], dataset[split_idx['valid']], dataset[split_idx['test']]\n",
    "print('train, validaion, test:', len(train_dataset), len(valid_dataset), len(test_dataset))"
   ]
  },
  {
   "cell_type": "markdown",
   "id": "507848bd-ddf0-4dfe-aa3d-1eb104af0bf8",
   "metadata": {},
   "source": [
    "# Model"
   ]
  },
  {
   "cell_type": "code",
   "execution_count": 6,
   "id": "86008023-48aa-47f6-b642-e4e4f9583127",
   "metadata": {},
   "outputs": [],
   "source": [
    "model_dime = DimeNetPP(energy_and_force=energy_and_force, cutoff=cutoff, num_layers=num_layers, \n",
    "        hidden_channels=hidden_channels, out_channels=out_channels, int_emb_size=int_emb_size, \n",
    "        basis_emb_size=basis_emb_size, out_emb_channels=out_emb_channels, \n",
    "        num_spherical=num_spherical, num_radial=num_radial, envelope_exponent=envelope_exponent, \n",
    "        num_before_skip=num_before_skip, num_after_skip=num_after_skip, num_output_layers=num_output_layers \n",
    "        )\n",
    "\n",
    "model_sphere = SphereNet(energy_and_force=energy_and_force, cutoff=cutoff, num_layers=num_layers, \n",
    "        hidden_channels=hidden_channels, out_channels=out_channels, int_emb_size=int_emb_size, \n",
    "        basis_emb_size_dist=8, basis_emb_size_angle=8,\n",
    "                  basis_emb_size_torsion=8, out_emb_channels=out_emb_channels, \n",
    "        num_spherical=num_spherical, num_radial=num_radial, envelope_exponent=envelope_exponent, \n",
    "        num_before_skip=num_before_skip, num_after_skip=num_after_skip, num_output_layers=num_output_layers \n",
    "        )\n",
    "\n",
    "model_schnet = SchNet(energy_and_force=energy_and_force, cutoff=cutoff, num_layers=6, \n",
    "        hidden_channels=128, out_channels=1,\n",
    "        num_filters=128, num_gaussians=20 \n",
    "        )\n",
    "\n",
    "loss_func = torch.nn.L1Loss()\n",
    "evaluation = ThreeDEvaluator()"
   ]
  },
  {
   "cell_type": "markdown",
   "id": "8e8a198b-aa68-4b3b-8d8f-6c6a95c2c5ea",
   "metadata": {},
   "source": [
    "# FLOPs"
   ]
  },
  {
   "cell_type": "markdown",
   "id": "dbce6dfc-96b9-450c-bbdb-fe6a6e1a6558",
   "metadata": {},
   "source": [
    "## tob14"
   ]
  },
  {
   "cell_type": "code",
   "execution_count": 10,
   "id": "d2043a56-5824-4c0f-befc-a089038b8343",
   "metadata": {},
   "outputs": [
    {
     "name": "stdout",
     "output_type": "stream",
     "text": [
      "train, validaion, test: 950 50 6000\n"
     ]
    },
    {
     "name": "stderr",
     "output_type": "stream",
     "text": [
      "  0%|                                                             | 0/238 [00:00<?, ?it/s]"
     ]
    },
    {
     "name": "stdout",
     "output_type": "stream",
     "text": [
      "cuda:0\n",
      "[INFO] Register count_linear() for <class 'torch.nn.modules.linear.Linear'>.\n",
      "[INFO] Register zero_ops() for <class 'torch.nn.modules.container.Sequential'>.\n",
      "674660352.0 419969.0\n"
     ]
    },
    {
     "name": "stderr",
     "output_type": "stream",
     "text": [
      "\n"
     ]
    }
   ],
   "source": [
    "from torch_geometric.data import DataLoader\n",
    "from tqdm import tqdm\n",
    "from thop import profile\n",
    "\n",
    "dataset = Tobermorite(root='dataset/', name='tob14')\n",
    "\n",
    "split_idx = dataset.get_idx_split(len(dataset.data.y), train_size=950, valid_size=50, seed=seed)\n",
    "\n",
    "train_dataset, valid_dataset, test_dataset = dataset[split_idx['train']], dataset[split_idx['valid']], dataset[split_idx['test']]\n",
    "print('train, validaion, test:', len(train_dataset), len(valid_dataset), len(test_dataset))\n",
    "\n",
    "train_loader = DataLoader(train_dataset, 4, shuffle=True)\n",
    "for step, batch_data in enumerate(tqdm(train_loader)):\n",
    "    print(device)\n",
    "    batch_data = batch_data.to(device)\n",
    "    inputs = batch_data\n",
    "    model = model_schnet.to(device)\n",
    "    flops,params=profile(model,(inputs, ))\n",
    "    print(flops,params)\n",
    "    break"
   ]
  },
  {
   "cell_type": "markdown",
   "id": "2d295631-76df-4c14-9003-5451529db164",
   "metadata": {},
   "source": [
    "## tob11"
   ]
  },
  {
   "cell_type": "code",
   "execution_count": 21,
   "id": "d8ea9f1b-8df2-412c-a943-57f265d30403",
   "metadata": {},
   "outputs": [
    {
     "name": "stdout",
     "output_type": "stream",
     "text": [
      "train, validaion, test: 950 50 6000\n"
     ]
    },
    {
     "name": "stderr",
     "output_type": "stream",
     "text": [
      "  2%|██▊                                                                                                                                  | 5/238 [00:00<00:05, 43.80it/s]"
     ]
    },
    {
     "name": "stdout",
     "output_type": "stream",
     "text": [
      "cuda:0\n",
      "[INFO] Register count_linear() for <class 'torch.nn.modules.linear.Linear'>.\n",
      "3635036800.0 1874176.0\n",
      "cuda:0\n",
      "[INFO] Register count_linear() for <class 'torch.nn.modules.linear.Linear'>.\n",
      "3688009984.0 1874176.0\n",
      "cuda:0\n",
      "[INFO] Register count_linear() for <class 'torch.nn.modules.linear.Linear'>.\n",
      "3691398272.0 1874176.0\n",
      "cuda:0\n",
      "[INFO] Register count_linear() for <class 'torch.nn.modules.linear.Linear'>.\n",
      "3681520768.0 1874176.0\n",
      "cuda:0\n",
      "[INFO] Register count_linear() for <class 'torch.nn.modules.linear.Linear'>.\n",
      "3648440320.0 1874176.0\n",
      "cuda:0\n",
      "[INFO] Register count_linear() for <class 'torch.nn.modules.linear.Linear'>.\n",
      "3671485184.0 1874176.0\n",
      "cuda:0\n",
      "[INFO] Register count_linear() for <class 'torch.nn.modules.linear.Linear'>.\n",
      "3540500992.0 1874176.0\n",
      "cuda:0\n",
      "[INFO] Register count_linear() for <class 'torch.nn.modules.linear.Linear'>.\n",
      "3601305600.0 1874176.0\n",
      "cuda:0\n",
      "[INFO] Register count_linear() for <class 'torch.nn.modules.linear.Linear'>.\n",
      "3627036800.0 1874176.0\n"
     ]
    },
    {
     "name": "stderr",
     "output_type": "stream",
     "text": [
      "  6%|████████▎                                                                                                                           | 15/238 [00:00<00:04, 45.31it/s]"
     ]
    },
    {
     "name": "stdout",
     "output_type": "stream",
     "text": [
      "cuda:0\n",
      "[INFO] Register count_linear() for <class 'torch.nn.modules.linear.Linear'>.\n",
      "3646200064.0 1874176.0\n",
      "cuda:0\n",
      "[INFO] Register count_linear() for <class 'torch.nn.modules.linear.Linear'>.\n",
      "3630194816.0 1874176.0\n",
      "cuda:0\n",
      "[INFO] Register count_linear() for <class 'torch.nn.modules.linear.Linear'>.\n",
      "3608015872.0 1874176.0\n",
      "cuda:0\n",
      "[INFO] Register count_linear() for <class 'torch.nn.modules.linear.Linear'>.\n",
      "3599044992.0 1874176.0\n",
      "cuda:0\n",
      "[INFO] Register count_linear() for <class 'torch.nn.modules.linear.Linear'>.\n",
      "3638970880.0 1874176.0\n",
      "cuda:0\n",
      "[INFO] Register count_linear() for <class 'torch.nn.modules.linear.Linear'>.\n",
      "3682642560.0 1874176.0\n",
      "cuda:0\n",
      "[INFO] Register count_linear() for <class 'torch.nn.modules.linear.Linear'>.\n",
      "3687725952.0 1874176.0\n",
      "cuda:0\n",
      "[INFO] Register count_linear() for <class 'torch.nn.modules.linear.Linear'>.\n",
      "3689535872.0 1874176.0\n",
      "cuda:0\n",
      "[INFO] Register count_linear() for <class 'torch.nn.modules.linear.Linear'>.\n",
      "3646137088.0 1874176.0\n",
      "cuda:0\n",
      "[INFO] Register count_linear() for <class 'torch.nn.modules.linear.Linear'>.\n"
     ]
    },
    {
     "name": "stderr",
     "output_type": "stream",
     "text": [
      " 11%|█████████████▊                                                                                                                      | 25/238 [00:00<00:04, 45.93it/s]"
     ]
    },
    {
     "name": "stdout",
     "output_type": "stream",
     "text": [
      "3664182528.0 1874176.0\n",
      "cuda:0\n",
      "[INFO] Register count_linear() for <class 'torch.nn.modules.linear.Linear'>.\n",
      "3643566208.0 1874176.0\n",
      "cuda:0\n",
      "[INFO] Register count_linear() for <class 'torch.nn.modules.linear.Linear'>.\n",
      "3644348160.0 1874176.0\n",
      "cuda:0\n",
      "[INFO] Register count_linear() for <class 'torch.nn.modules.linear.Linear'>.\n",
      "3693826816.0 1874176.0\n",
      "cuda:0\n",
      "[INFO] Register count_linear() for <class 'torch.nn.modules.linear.Linear'>.\n",
      "3604264832.0 1874176.0\n",
      "cuda:0\n",
      "[INFO] Register count_linear() for <class 'torch.nn.modules.linear.Linear'>.\n",
      "3574268928.0 1874176.0\n",
      "cuda:0\n",
      "[INFO] Register count_linear() for <class 'torch.nn.modules.linear.Linear'>.\n",
      "3568833920.0 1874176.0\n",
      "cuda:0\n",
      "[INFO] Register count_linear() for <class 'torch.nn.modules.linear.Linear'>.\n",
      "3641321344.0 1874176.0\n",
      "cuda:0\n",
      "[INFO] Register count_linear() for <class 'torch.nn.modules.linear.Linear'>.\n",
      "3554014720.0 1874176.0\n",
      "cuda:0\n",
      "[INFO] Register count_linear() for <class 'torch.nn.modules.linear.Linear'>.\n",
      "3623238528.0 1874176.0\n",
      "cuda:0\n",
      "[INFO] Register count_linear() for <class 'torch.nn.modules.linear.Linear'>.\n"
     ]
    },
    {
     "name": "stderr",
     "output_type": "stream",
     "text": [
      " 15%|███████████████████▍                                                                                                                | 35/238 [00:00<00:04, 46.34it/s]"
     ]
    },
    {
     "name": "stdout",
     "output_type": "stream",
     "text": [
      "3641220992.0 1874176.0\n",
      "cuda:0\n",
      "[INFO] Register count_linear() for <class 'torch.nn.modules.linear.Linear'>.\n",
      "3639223424.0 1874176.0\n",
      "cuda:0\n",
      "[INFO] Register count_linear() for <class 'torch.nn.modules.linear.Linear'>.\n",
      "3585054336.0 1874176.0\n",
      "cuda:0\n",
      "[INFO] Register count_linear() for <class 'torch.nn.modules.linear.Linear'>.\n",
      "3640135936.0 1874176.0\n",
      "cuda:0\n",
      "[INFO] Register count_linear() for <class 'torch.nn.modules.linear.Linear'>.\n",
      "3667016448.0 1874176.0\n",
      "cuda:0\n",
      "[INFO] Register count_linear() for <class 'torch.nn.modules.linear.Linear'>.\n",
      "3594114432.0 1874176.0\n",
      "cuda:0\n",
      "[INFO] Register count_linear() for <class 'torch.nn.modules.linear.Linear'>.\n",
      "3631469440.0 1874176.0\n",
      "cuda:0\n",
      "[INFO] Register count_linear() for <class 'torch.nn.modules.linear.Linear'>.\n",
      "3617693952.0 1874176.0\n",
      "cuda:0\n",
      "[INFO] Register count_linear() for <class 'torch.nn.modules.linear.Linear'>.\n",
      "3586155776.0 1874176.0\n",
      "cuda:0\n",
      "[INFO] Register count_linear() for <class 'torch.nn.modules.linear.Linear'>.\n",
      "3621513216.0 1874176.0\n",
      "cuda:0\n",
      "[INFO] Register count_linear() for <class 'torch.nn.modules.linear.Linear'>.\n"
     ]
    },
    {
     "name": "stderr",
     "output_type": "stream",
     "text": [
      " 19%|████████████████████████▉                                                                                                           | 45/238 [00:00<00:04, 46.54it/s]"
     ]
    },
    {
     "name": "stdout",
     "output_type": "stream",
     "text": [
      "3712838528.0 1874176.0\n",
      "cuda:0\n",
      "[INFO] Register count_linear() for <class 'torch.nn.modules.linear.Linear'>.\n",
      "3701412864.0 1874176.0\n",
      "cuda:0\n",
      "[INFO] Register count_linear() for <class 'torch.nn.modules.linear.Linear'>.\n",
      "3750623872.0 1874176.0\n",
      "cuda:0\n",
      "[INFO] Register count_linear() for <class 'torch.nn.modules.linear.Linear'>.\n",
      "3680056576.0 1874176.0\n",
      "cuda:0\n",
      "[INFO] Register count_linear() for <class 'torch.nn.modules.linear.Linear'>.\n",
      "3675744640.0 1874176.0\n",
      "cuda:0\n",
      "[INFO] Register count_linear() for <class 'torch.nn.modules.linear.Linear'>.\n",
      "3653753344.0 1874176.0\n",
      "cuda:0\n",
      "[INFO] Register count_linear() for <class 'torch.nn.modules.linear.Linear'>.\n",
      "3673704448.0 1874176.0\n",
      "cuda:0\n",
      "[INFO] Register count_linear() for <class 'torch.nn.modules.linear.Linear'>.\n",
      "3593752320.0 1874176.0\n",
      "cuda:0\n",
      "[INFO] Register count_linear() for <class 'torch.nn.modules.linear.Linear'>.\n",
      "3685932416.0 1874176.0\n",
      "cuda:0\n",
      "[INFO] Register count_linear() for <class 'torch.nn.modules.linear.Linear'>.\n",
      "3660841472.0 1874176.0\n",
      "cuda:0\n",
      "[INFO] Register count_linear() for <class 'torch.nn.modules.linear.Linear'>.\n"
     ]
    },
    {
     "name": "stderr",
     "output_type": "stream",
     "text": [
      " 23%|██████████████████████████████▌                                                                                                     | 55/238 [00:01<00:03, 46.39it/s]"
     ]
    },
    {
     "name": "stdout",
     "output_type": "stream",
     "text": [
      "3654619904.0 1874176.0\n",
      "cuda:0\n",
      "[INFO] Register count_linear() for <class 'torch.nn.modules.linear.Linear'>.\n",
      "3676447232.0 1874176.0\n",
      "cuda:0\n",
      "[INFO] Register count_linear() for <class 'torch.nn.modules.linear.Linear'>.\n",
      "3617541760.0 1874176.0\n",
      "cuda:0\n",
      "[INFO] Register count_linear() for <class 'torch.nn.modules.linear.Linear'>.\n",
      "3627356928.0 1874176.0\n",
      "cuda:0\n",
      "[INFO] Register count_linear() for <class 'torch.nn.modules.linear.Linear'>.\n",
      "3591937792.0 1874176.0\n",
      "cuda:0\n",
      "[INFO] Register count_linear() for <class 'torch.nn.modules.linear.Linear'>.\n",
      "3666564480.0 1874176.0\n",
      "cuda:0\n",
      "[INFO] Register count_linear() for <class 'torch.nn.modules.linear.Linear'>.\n",
      "3537354112.0 1874176.0\n",
      "cuda:0\n",
      "[INFO] Register count_linear() for <class 'torch.nn.modules.linear.Linear'>.\n",
      "3669082880.0 1874176.0\n",
      "cuda:0\n",
      "[INFO] Register count_linear() for <class 'torch.nn.modules.linear.Linear'>.\n",
      "3669942912.0 1874176.0\n",
      "cuda:0\n",
      "[INFO] Register count_linear() for <class 'torch.nn.modules.linear.Linear'>.\n",
      "3687128320.0 1874176.0\n",
      "cuda:0\n",
      "[INFO] Register count_linear() for <class 'torch.nn.modules.linear.Linear'>.\n"
     ]
    },
    {
     "name": "stderr",
     "output_type": "stream",
     "text": [
      " 27%|████████████████████████████████████                                                                                                | 65/238 [00:01<00:03, 46.66it/s]"
     ]
    },
    {
     "name": "stdout",
     "output_type": "stream",
     "text": [
      "3700620416.0 1874176.0\n",
      "cuda:0\n",
      "[INFO] Register count_linear() for <class 'torch.nn.modules.linear.Linear'>.\n",
      "3556873600.0 1874176.0\n",
      "cuda:0\n",
      "[INFO] Register count_linear() for <class 'torch.nn.modules.linear.Linear'>.\n",
      "3758749824.0 1874176.0\n",
      "cuda:0\n",
      "[INFO] Register count_linear() for <class 'torch.nn.modules.linear.Linear'>.\n",
      "3653088128.0 1874176.0\n",
      "cuda:0\n",
      "[INFO] Register count_linear() for <class 'torch.nn.modules.linear.Linear'>.\n",
      "3736496768.0 1874176.0\n",
      "cuda:0\n",
      "[INFO] Register count_linear() for <class 'torch.nn.modules.linear.Linear'>.\n",
      "3601306240.0 1874176.0\n",
      "cuda:0\n",
      "[INFO] Register count_linear() for <class 'torch.nn.modules.linear.Linear'>.\n",
      "3654929536.0 1874176.0\n",
      "cuda:0\n",
      "[INFO] Register count_linear() for <class 'torch.nn.modules.linear.Linear'>.\n",
      "3651324800.0 1874176.0\n",
      "cuda:0\n",
      "[INFO] Register count_linear() for <class 'torch.nn.modules.linear.Linear'>.\n",
      "3595100416.0 1874176.0\n",
      "cuda:0\n",
      "[INFO] Register count_linear() for <class 'torch.nn.modules.linear.Linear'>.\n",
      "3679060736.0 1874176.0\n",
      "cuda:0\n",
      "[INFO] Register count_linear() for <class 'torch.nn.modules.linear.Linear'>.\n"
     ]
    },
    {
     "name": "stderr",
     "output_type": "stream",
     "text": [
      " 32%|█████████████████████████████████████████▌                                                                                          | 75/238 [00:01<00:03, 46.70it/s]"
     ]
    },
    {
     "name": "stdout",
     "output_type": "stream",
     "text": [
      "3667618688.0 1874176.0\n",
      "cuda:0\n",
      "[INFO] Register count_linear() for <class 'torch.nn.modules.linear.Linear'>.\n",
      "3635251968.0 1874176.0\n",
      "cuda:0\n",
      "[INFO] Register count_linear() for <class 'torch.nn.modules.linear.Linear'>.\n",
      "3617279360.0 1874176.0\n",
      "cuda:0\n",
      "[INFO] Register count_linear() for <class 'torch.nn.modules.linear.Linear'>.\n",
      "3616277632.0 1874176.0\n",
      "cuda:0\n",
      "[INFO] Register count_linear() for <class 'torch.nn.modules.linear.Linear'>.\n",
      "3651283456.0 1874176.0\n",
      "cuda:0\n",
      "[INFO] Register count_linear() for <class 'torch.nn.modules.linear.Linear'>.\n",
      "3622053120.0 1874176.0\n",
      "cuda:0\n",
      "[INFO] Register count_linear() for <class 'torch.nn.modules.linear.Linear'>.\n",
      "3658590720.0 1874176.0\n",
      "cuda:0\n",
      "[INFO] Register count_linear() for <class 'torch.nn.modules.linear.Linear'>.\n",
      "3604568576.0 1874176.0\n",
      "cuda:0\n",
      "[INFO] Register count_linear() for <class 'torch.nn.modules.linear.Linear'>.\n",
      "3629161600.0 1874176.0\n",
      "cuda:0\n",
      "[INFO] Register count_linear() for <class 'torch.nn.modules.linear.Linear'>.\n",
      "3587703296.0 1874176.0\n",
      "cuda:0\n",
      "[INFO] Register count_linear() for <class 'torch.nn.modules.linear.Linear'>.\n"
     ]
    },
    {
     "name": "stderr",
     "output_type": "stream",
     "text": [
      " 36%|███████████████████████████████████████████████▏                                                                                    | 85/238 [00:01<00:03, 46.76it/s]"
     ]
    },
    {
     "name": "stdout",
     "output_type": "stream",
     "text": [
      "3651283456.0 1874176.0\n",
      "cuda:0\n",
      "[INFO] Register count_linear() for <class 'torch.nn.modules.linear.Linear'>.\n",
      "3658910848.0 1874176.0\n",
      "cuda:0\n",
      "[INFO] Register count_linear() for <class 'torch.nn.modules.linear.Linear'>.\n",
      "3690150528.0 1874176.0\n",
      "cuda:0\n",
      "[INFO] Register count_linear() for <class 'torch.nn.modules.linear.Linear'>.\n",
      "3626669440.0 1874176.0\n",
      "cuda:0\n",
      "[INFO] Register count_linear() for <class 'torch.nn.modules.linear.Linear'>.\n",
      "3592729600.0 1874176.0\n",
      "cuda:0\n",
      "[INFO] Register count_linear() for <class 'torch.nn.modules.linear.Linear'>.\n",
      "3557822848.0 1874176.0\n",
      "cuda:0\n",
      "[INFO] Register count_linear() for <class 'torch.nn.modules.linear.Linear'>.\n",
      "3632944128.0 1874176.0\n",
      "cuda:0\n",
      "[INFO] Register count_linear() for <class 'torch.nn.modules.linear.Linear'>.\n",
      "3594670720.0 1874176.0\n",
      "cuda:0\n",
      "[INFO] Register count_linear() for <class 'torch.nn.modules.linear.Linear'>.\n",
      "3634082304.0 1874176.0\n",
      "cuda:0\n",
      "[INFO] Register count_linear() for <class 'torch.nn.modules.linear.Linear'>.\n",
      "3659870592.0 1874176.0\n",
      "cuda:0\n",
      "[INFO] Register count_linear() for <class 'torch.nn.modules.linear.Linear'>.\n"
     ]
    },
    {
     "name": "stderr",
     "output_type": "stream",
     "text": [
      " 40%|████████████████████████████████████████████████████▋                                                                               | 95/238 [00:02<00:03, 46.71it/s]"
     ]
    },
    {
     "name": "stdout",
     "output_type": "stream",
     "text": [
      "3653738240.0 1874176.0\n",
      "cuda:0\n",
      "[INFO] Register count_linear() for <class 'torch.nn.modules.linear.Linear'>.\n",
      "3656565632.0 1874176.0\n",
      "cuda:0\n",
      "[INFO] Register count_linear() for <class 'torch.nn.modules.linear.Linear'>.\n",
      "3651020416.0 1874176.0\n",
      "cuda:0\n",
      "[INFO] Register count_linear() for <class 'torch.nn.modules.linear.Linear'>.\n",
      "3688272384.0 1874176.0\n",
      "cuda:0\n",
      "[INFO] Register count_linear() for <class 'torch.nn.modules.linear.Linear'>.\n",
      "3685381376.0 1874176.0\n",
      "cuda:0\n",
      "[INFO] Register count_linear() for <class 'torch.nn.modules.linear.Linear'>.\n",
      "3629455488.0 1874176.0\n",
      "cuda:0\n",
      "[INFO] Register count_linear() for <class 'torch.nn.modules.linear.Linear'>.\n",
      "3597014656.0 1874176.0\n",
      "cuda:0\n",
      "[INFO] Register count_linear() for <class 'torch.nn.modules.linear.Linear'>.\n",
      "3630798336.0 1874176.0\n",
      "cuda:0\n",
      "[INFO] Register count_linear() for <class 'torch.nn.modules.linear.Linear'>.\n",
      "3613769728.0 1874176.0\n",
      "cuda:0\n",
      "[INFO] Register count_linear() for <class 'torch.nn.modules.linear.Linear'>.\n",
      "3653061888.0 1874176.0\n",
      "cuda:0\n",
      "[INFO] Register count_linear() for <class 'torch.nn.modules.linear.Linear'>.\n"
     ]
    },
    {
     "name": "stderr",
     "output_type": "stream",
     "text": [
      " 44%|█████████████████████████████████████████████████████████▊                                                                         | 105/238 [00:02<00:02, 46.12it/s]"
     ]
    },
    {
     "name": "stdout",
     "output_type": "stream",
     "text": [
      "3607816448.0 1874176.0\n",
      "cuda:0\n",
      "[INFO] Register count_linear() for <class 'torch.nn.modules.linear.Linear'>.\n",
      "3638032768.0 1874176.0\n",
      "cuda:0\n",
      "[INFO] Register count_linear() for <class 'torch.nn.modules.linear.Linear'>.\n",
      "3603247360.0 1874176.0\n",
      "cuda:0\n",
      "[INFO] Register count_linear() for <class 'torch.nn.modules.linear.Linear'>.\n",
      "3677087488.0 1874176.0\n",
      "cuda:0\n",
      "[INFO] Register count_linear() for <class 'torch.nn.modules.linear.Linear'>.\n",
      "3620888704.0 1874176.0\n",
      "cuda:0\n",
      "[INFO] Register count_linear() for <class 'torch.nn.modules.linear.Linear'>.\n",
      "3668683392.0 1874176.0\n",
      "cuda:0\n",
      "[INFO] Register count_linear() for <class 'torch.nn.modules.linear.Linear'>.\n",
      "3615060736.0 1874176.0\n",
      "cuda:0\n",
      "[INFO] Register count_linear() for <class 'torch.nn.modules.linear.Linear'>.\n",
      "3621135360.0 1874176.0\n",
      "cuda:0\n",
      "[INFO] Register count_linear() for <class 'torch.nn.modules.linear.Linear'>.\n",
      "3614751744.0 1874176.0\n",
      "cuda:0\n",
      "[INFO] Register count_linear() for <class 'torch.nn.modules.linear.Linear'>.\n",
      "3657520768.0 1874176.0\n",
      "cuda:0\n",
      "[INFO] Register count_linear() for <class 'torch.nn.modules.linear.Linear'>.\n"
     ]
    },
    {
     "name": "stderr",
     "output_type": "stream",
     "text": [
      " 48%|███████████████████████████████████████████████████████████████▎                                                                   | 115/238 [00:02<00:02, 46.24it/s]"
     ]
    },
    {
     "name": "stdout",
     "output_type": "stream",
     "text": [
      "3629150464.0 1874176.0\n",
      "cuda:0\n",
      "[INFO] Register count_linear() for <class 'torch.nn.modules.linear.Linear'>.\n",
      "3585631616.0 1874176.0\n",
      "cuda:0\n",
      "[INFO] Register count_linear() for <class 'torch.nn.modules.linear.Linear'>.\n",
      "3609411200.0 1874176.0\n",
      "cuda:0\n",
      "[INFO] Register count_linear() for <class 'torch.nn.modules.linear.Linear'>.\n",
      "3626575616.0 1874176.0\n",
      "cuda:0\n",
      "[INFO] Register count_linear() for <class 'torch.nn.modules.linear.Linear'>.\n",
      "3631773824.0 1874176.0\n",
      "cuda:0\n",
      "[INFO] Register count_linear() for <class 'torch.nn.modules.linear.Linear'>.\n",
      "3532443904.0 1874176.0\n",
      "cuda:0\n",
      "[INFO] Register count_linear() for <class 'torch.nn.modules.linear.Linear'>.\n",
      "3656996608.0 1874176.0\n",
      "cuda:0\n",
      "[INFO] Register count_linear() for <class 'torch.nn.modules.linear.Linear'>.\n",
      "3597120256.0 1874176.0\n",
      "cuda:0\n",
      "[INFO] Register count_linear() for <class 'torch.nn.modules.linear.Linear'>.\n",
      "3675571456.0 1874176.0\n",
      "cuda:0\n",
      "[INFO] Register count_linear() for <class 'torch.nn.modules.linear.Linear'>.\n",
      "3637277696.0 1874176.0\n",
      "cuda:0\n",
      "[INFO] Register count_linear() for <class 'torch.nn.modules.linear.Linear'>.\n"
     ]
    },
    {
     "name": "stderr",
     "output_type": "stream",
     "text": [
      " 53%|████████████████████████████████████████████████████████████████████▊                                                              | 125/238 [00:02<00:02, 46.55it/s]"
     ]
    },
    {
     "name": "stdout",
     "output_type": "stream",
     "text": [
      "3606121984.0 1874176.0\n",
      "cuda:0\n",
      "[INFO] Register count_linear() for <class 'torch.nn.modules.linear.Linear'>.\n",
      "3649116672.0 1874176.0\n",
      "cuda:0\n",
      "[INFO] Register count_linear() for <class 'torch.nn.modules.linear.Linear'>.\n",
      "3561211776.0 1874176.0\n",
      "cuda:0\n",
      "[INFO] Register count_linear() for <class 'torch.nn.modules.linear.Linear'>.\n",
      "3626307328.0 1874176.0\n",
      "cuda:0\n",
      "[INFO] Register count_linear() for <class 'torch.nn.modules.linear.Linear'>.\n",
      "3672508544.0 1874176.0\n",
      "cuda:0\n",
      "[INFO] Register count_linear() for <class 'torch.nn.modules.linear.Linear'>.\n",
      "3639317248.0 1874176.0\n",
      "cuda:0\n",
      "[INFO] Register count_linear() for <class 'torch.nn.modules.linear.Linear'>.\n",
      "3622504448.0 1874176.0\n",
      "cuda:0\n",
      "[INFO] Register count_linear() for <class 'torch.nn.modules.linear.Linear'>.\n",
      "3608172672.0 1874176.0\n",
      "cuda:0\n",
      "[INFO] Register count_linear() for <class 'torch.nn.modules.linear.Linear'>.\n",
      "3740127104.0 1874176.0\n",
      "cuda:0\n",
      "[INFO] Register count_linear() for <class 'torch.nn.modules.linear.Linear'>.\n",
      "3593164544.0 1874176.0\n",
      "cuda:0\n",
      "[INFO] Register count_linear() for <class 'torch.nn.modules.linear.Linear'>.\n"
     ]
    },
    {
     "name": "stderr",
     "output_type": "stream",
     "text": [
      " 57%|██████████████████████████████████████████████████████████████████████████▎                                                        | 135/238 [00:02<00:02, 46.58it/s]"
     ]
    },
    {
     "name": "stdout",
     "output_type": "stream",
     "text": [
      "3635881728.0 1874176.0\n",
      "cuda:0\n",
      "[INFO] Register count_linear() for <class 'torch.nn.modules.linear.Linear'>.\n",
      "3740420992.0 1874176.0\n",
      "cuda:0\n",
      "[INFO] Register count_linear() for <class 'torch.nn.modules.linear.Linear'>.\n",
      "3635865984.0 1874176.0\n",
      "cuda:0\n",
      "[INFO] Register count_linear() for <class 'torch.nn.modules.linear.Linear'>.\n",
      "3664492800.0 1874176.0\n",
      "cuda:0\n",
      "[INFO] Register count_linear() for <class 'torch.nn.modules.linear.Linear'>.\n",
      "3720591872.0 1874176.0\n",
      "cuda:0\n",
      "[INFO] Register count_linear() for <class 'torch.nn.modules.linear.Linear'>.\n",
      "3609049088.0 1874176.0\n",
      "cuda:0\n",
      "[INFO] Register count_linear() for <class 'torch.nn.modules.linear.Linear'>.\n",
      "3663322496.0 1874176.0\n",
      "cuda:0\n",
      "[INFO] Register count_linear() for <class 'torch.nn.modules.linear.Linear'>.\n",
      "3681719552.0 1874176.0\n",
      "cuda:0\n",
      "[INFO] Register count_linear() for <class 'torch.nn.modules.linear.Linear'>.\n",
      "3604658432.0 1874176.0\n",
      "cuda:0\n",
      "[INFO] Register count_linear() for <class 'torch.nn.modules.linear.Linear'>.\n",
      "3688796544.0 1874176.0\n",
      "cuda:0\n",
      "[INFO] Register count_linear() for <class 'torch.nn.modules.linear.Linear'>.\n"
     ]
    },
    {
     "name": "stderr",
     "output_type": "stream",
     "text": [
      " 61%|███████████████████████████████████████████████████████████████████████████████▊                                                   | 145/238 [00:03<00:02, 46.31it/s]"
     ]
    },
    {
     "name": "stdout",
     "output_type": "stream",
     "text": [
      "3614053120.0 1874176.0\n",
      "cuda:0\n",
      "[INFO] Register count_linear() for <class 'torch.nn.modules.linear.Linear'>.\n",
      "3659341184.0 1874176.0\n",
      "cuda:0\n",
      "[INFO] Register count_linear() for <class 'torch.nn.modules.linear.Linear'>.\n",
      "3583947008.0 1874176.0\n",
      "cuda:0\n",
      "[INFO] Register count_linear() for <class 'torch.nn.modules.linear.Linear'>.\n",
      "3683408768.0 1874176.0\n",
      "cuda:0\n",
      "[INFO] Register count_linear() for <class 'torch.nn.modules.linear.Linear'>.\n",
      "3641452544.0 1874176.0\n",
      "cuda:0\n",
      "[INFO] Register count_linear() for <class 'torch.nn.modules.linear.Linear'>.\n",
      "3618937088.0 1874176.0\n",
      "cuda:0\n",
      "[INFO] Register count_linear() for <class 'torch.nn.modules.linear.Linear'>.\n",
      "3705063552.0 1874176.0\n",
      "cuda:0\n",
      "[INFO] Register count_linear() for <class 'torch.nn.modules.linear.Linear'>.\n",
      "3660211712.0 1874176.0\n",
      "cuda:0\n",
      "[INFO] Register count_linear() for <class 'torch.nn.modules.linear.Linear'>.\n",
      "3594785536.0 1874176.0\n",
      "cuda:0\n",
      "[INFO] Register count_linear() for <class 'torch.nn.modules.linear.Linear'>.\n",
      "3676525952.0 1874176.0\n",
      "cuda:0\n",
      "[INFO] Register count_linear() for <class 'torch.nn.modules.linear.Linear'>.\n"
     ]
    },
    {
     "name": "stderr",
     "output_type": "stream",
     "text": [
      " 65%|█████████████████████████████████████████████████████████████████████████████████████▎                                             | 155/238 [00:03<00:01, 46.17it/s]"
     ]
    },
    {
     "name": "stdout",
     "output_type": "stream",
     "text": [
      "3596054912.0 1874176.0\n",
      "cuda:0\n",
      "[INFO] Register count_linear() for <class 'torch.nn.modules.linear.Linear'>.\n",
      "3646378496.0 1874176.0\n",
      "cuda:0\n",
      "[INFO] Register count_linear() for <class 'torch.nn.modules.linear.Linear'>.\n",
      "3599480576.0 1874176.0\n",
      "cuda:0\n",
      "[INFO] Register count_linear() for <class 'torch.nn.modules.linear.Linear'>.\n",
      "3657436800.0 1874176.0\n",
      "cuda:0\n",
      "[INFO] Register count_linear() for <class 'torch.nn.modules.linear.Linear'>.\n",
      "3614877696.0 1874176.0\n",
      "cuda:0\n",
      "[INFO] Register count_linear() for <class 'torch.nn.modules.linear.Linear'>.\n",
      "3631307392.0 1874176.0\n",
      "cuda:0\n",
      "[INFO] Register count_linear() for <class 'torch.nn.modules.linear.Linear'>.\n",
      "3702854784.0 1874176.0\n",
      "cuda:0\n",
      "[INFO] Register count_linear() for <class 'torch.nn.modules.linear.Linear'>.\n",
      "3678960384.0 1874176.0\n",
      "cuda:0\n",
      "[INFO] Register count_linear() for <class 'torch.nn.modules.linear.Linear'>.\n",
      "3654110848.0 1874176.0\n",
      "cuda:0\n",
      "[INFO] Register count_linear() for <class 'torch.nn.modules.linear.Linear'>.\n",
      "3701097984.0 1874176.0\n",
      "cuda:0\n",
      "[INFO] Register count_linear() for <class 'torch.nn.modules.linear.Linear'>.\n"
     ]
    },
    {
     "name": "stderr",
     "output_type": "stream",
     "text": [
      " 69%|██████████████████████████████████████████████████████████████████████████████████████████▊                                        | 165/238 [00:03<00:01, 46.31it/s]"
     ]
    },
    {
     "name": "stdout",
     "output_type": "stream",
     "text": [
      "3679133568.0 1874176.0\n",
      "cuda:0\n",
      "[INFO] Register count_linear() for <class 'torch.nn.modules.linear.Linear'>.\n",
      "3607165696.0 1874176.0\n",
      "cuda:0\n",
      "[INFO] Register count_linear() for <class 'torch.nn.modules.linear.Linear'>.\n",
      "3629969152.0 1874176.0\n",
      "cuda:0\n",
      "[INFO] Register count_linear() for <class 'torch.nn.modules.linear.Linear'>.\n",
      "3626192512.0 1874176.0\n",
      "cuda:0\n",
      "[INFO] Register count_linear() for <class 'torch.nn.modules.linear.Linear'>.\n",
      "3677323648.0 1874176.0\n",
      "cuda:0\n",
      "[INFO] Register count_linear() for <class 'torch.nn.modules.linear.Linear'>.\n",
      "3648618112.0 1874176.0\n",
      "cuda:0\n",
      "[INFO] Register count_linear() for <class 'torch.nn.modules.linear.Linear'>.\n",
      "3627608832.0 1874176.0\n",
      "cuda:0\n",
      "[INFO] Register count_linear() for <class 'torch.nn.modules.linear.Linear'>.\n",
      "3600849664.0 1874176.0\n",
      "cuda:0\n",
      "[INFO] Register count_linear() for <class 'torch.nn.modules.linear.Linear'>.\n",
      "3599748224.0 1874176.0\n",
      "cuda:0\n",
      "[INFO] Register count_linear() for <class 'torch.nn.modules.linear.Linear'>.\n",
      "3636033920.0 1874176.0\n",
      "cuda:0\n",
      "[INFO] Register count_linear() for <class 'torch.nn.modules.linear.Linear'>.\n"
     ]
    },
    {
     "name": "stderr",
     "output_type": "stream",
     "text": [
      " 74%|████████████████████████████████████████████████████████████████████████████████████████████████▎                                  | 175/238 [00:03<00:01, 46.36it/s]"
     ]
    },
    {
     "name": "stdout",
     "output_type": "stream",
     "text": [
      "3590053760.0 1874176.0\n",
      "cuda:0\n",
      "[INFO] Register count_linear() for <class 'torch.nn.modules.linear.Linear'>.\n",
      "3575711488.0 1874176.0\n",
      "cuda:0\n",
      "[INFO] Register count_linear() for <class 'torch.nn.modules.linear.Linear'>.\n",
      "3614856064.0 1874176.0\n",
      "cuda:0\n",
      "[INFO] Register count_linear() for <class 'torch.nn.modules.linear.Linear'>.\n",
      "3612102144.0 1874176.0\n",
      "cuda:0\n",
      "[INFO] Register count_linear() for <class 'torch.nn.modules.linear.Linear'>.\n",
      "3622777344.0 1874176.0\n",
      "cuda:0\n",
      "[INFO] Register count_linear() for <class 'torch.nn.modules.linear.Linear'>.\n",
      "3686687488.0 1874176.0\n",
      "cuda:0\n",
      "[INFO] Register count_linear() for <class 'torch.nn.modules.linear.Linear'>.\n",
      "3546387328.0 1874176.0\n",
      "cuda:0\n",
      "[INFO] Register count_linear() for <class 'torch.nn.modules.linear.Linear'>.\n",
      "3654158080.0 1874176.0\n",
      "cuda:0\n",
      "[INFO] Register count_linear() for <class 'torch.nn.modules.linear.Linear'>.\n",
      "3590431616.0 1874176.0\n",
      "cuda:0\n",
      "[INFO] Register count_linear() for <class 'torch.nn.modules.linear.Linear'>.\n",
      "3596301568.0 1874176.0\n",
      "cuda:0\n",
      "[INFO] Register count_linear() for <class 'torch.nn.modules.linear.Linear'>.\n"
     ]
    },
    {
     "name": "stderr",
     "output_type": "stream",
     "text": [
      " 78%|█████████████████████████████████████████████████████████████████████████████████████████████████████▊                             | 185/238 [00:03<00:01, 46.62it/s]"
     ]
    },
    {
     "name": "stdout",
     "output_type": "stream",
     "text": [
      "3545951744.0 1874176.0\n",
      "cuda:0\n",
      "[INFO] Register count_linear() for <class 'torch.nn.modules.linear.Linear'>.\n",
      "3668841472.0 1874176.0\n",
      "cuda:0\n",
      "[INFO] Register count_linear() for <class 'torch.nn.modules.linear.Linear'>.\n",
      "3599491072.0 1874176.0\n",
      "cuda:0\n",
      "[INFO] Register count_linear() for <class 'torch.nn.modules.linear.Linear'>.\n",
      "3558253824.0 1874176.0\n",
      "cuda:0\n",
      "[INFO] Register count_linear() for <class 'torch.nn.modules.linear.Linear'>.\n",
      "3636594816.0 1874176.0\n",
      "cuda:0\n",
      "[INFO] Register count_linear() for <class 'torch.nn.modules.linear.Linear'>.\n",
      "3599144704.0 1874176.0\n",
      "cuda:0\n",
      "[INFO] Register count_linear() for <class 'torch.nn.modules.linear.Linear'>.\n",
      "3668279936.0 1874176.0\n",
      "cuda:0\n",
      "[INFO] Register count_linear() for <class 'torch.nn.modules.linear.Linear'>.\n",
      "3646888192.0 1874176.0\n",
      "cuda:0\n",
      "[INFO] Register count_linear() for <class 'torch.nn.modules.linear.Linear'>.\n",
      "3721908480.0 1874176.0\n",
      "cuda:0\n",
      "[INFO] Register count_linear() for <class 'torch.nn.modules.linear.Linear'>.\n",
      "3652080512.0 1874176.0\n",
      "cuda:0\n",
      "[INFO] Register count_linear() for <class 'torch.nn.modules.linear.Linear'>.\n"
     ]
    },
    {
     "name": "stderr",
     "output_type": "stream",
     "text": [
      " 82%|███████████████████████████████████████████████████████████████████████████████████████████████████████████▎                       | 195/238 [00:04<00:00, 46.63it/s]"
     ]
    },
    {
     "name": "stdout",
     "output_type": "stream",
     "text": [
      "3605932416.0 1874176.0\n",
      "cuda:0\n",
      "[INFO] Register count_linear() for <class 'torch.nn.modules.linear.Linear'>.\n",
      "3688413440.0 1874176.0\n",
      "cuda:0\n",
      "[INFO] Register count_linear() for <class 'torch.nn.modules.linear.Linear'>.\n",
      "3704843136.0 1874176.0\n",
      "cuda:0\n",
      "[INFO] Register count_linear() for <class 'torch.nn.modules.linear.Linear'>.\n",
      "3614430976.0 1874176.0\n",
      "cuda:0\n",
      "[INFO] Register count_linear() for <class 'torch.nn.modules.linear.Linear'>.\n",
      "3601642112.0 1874176.0\n",
      "cuda:0\n",
      "[INFO] Register count_linear() for <class 'torch.nn.modules.linear.Linear'>.\n",
      "3583611776.0 1874176.0\n",
      "cuda:0\n",
      "[INFO] Register count_linear() for <class 'torch.nn.modules.linear.Linear'>.\n",
      "3622247296.0 1874176.0\n",
      "cuda:0\n",
      "[INFO] Register count_linear() for <class 'torch.nn.modules.linear.Linear'>.\n",
      "3624833920.0 1874176.0\n",
      "cuda:0\n",
      "[INFO] Register count_linear() for <class 'torch.nn.modules.linear.Linear'>.\n",
      "3613754624.0 1874176.0\n",
      "cuda:0\n",
      "[INFO] Register count_linear() for <class 'torch.nn.modules.linear.Linear'>.\n",
      "3600644992.0 1874176.0\n",
      "cuda:0\n",
      "[INFO] Register count_linear() for <class 'torch.nn.modules.linear.Linear'>.\n"
     ]
    },
    {
     "name": "stderr",
     "output_type": "stream",
     "text": [
      " 86%|████████████████████████████████████████████████████████████████████████████████████████████████████████████████▊                  | 205/238 [00:04<00:00, 46.44it/s]"
     ]
    },
    {
     "name": "stdout",
     "output_type": "stream",
     "text": [
      "3709160960.0 1874176.0\n",
      "cuda:0\n",
      "[INFO] Register count_linear() for <class 'torch.nn.modules.linear.Linear'>.\n",
      "3675885696.0 1874176.0\n",
      "cuda:0\n",
      "[INFO] Register count_linear() for <class 'torch.nn.modules.linear.Linear'>.\n",
      "3616298624.0 1874176.0\n",
      "cuda:0\n",
      "[INFO] Register count_linear() for <class 'torch.nn.modules.linear.Linear'>.\n",
      "3663680000.0 1874176.0\n",
      "cuda:0\n",
      "[INFO] Register count_linear() for <class 'torch.nn.modules.linear.Linear'>.\n",
      "3698883968.0 1874176.0\n",
      "cuda:0\n",
      "[INFO] Register count_linear() for <class 'torch.nn.modules.linear.Linear'>.\n",
      "3697776640.0 1874176.0\n",
      "cuda:0\n",
      "[INFO] Register count_linear() for <class 'torch.nn.modules.linear.Linear'>.\n",
      "3666706176.0 1874176.0\n",
      "cuda:0\n",
      "[INFO] Register count_linear() for <class 'torch.nn.modules.linear.Linear'>.\n",
      "3637696896.0 1874176.0\n",
      "cuda:0\n",
      "[INFO] Register count_linear() for <class 'torch.nn.modules.linear.Linear'>.\n",
      "3657882880.0 1874176.0\n",
      "cuda:0\n",
      "[INFO] Register count_linear() for <class 'torch.nn.modules.linear.Linear'>.\n",
      "3597807104.0 1874176.0\n",
      "cuda:0\n",
      "[INFO] Register count_linear() for <class 'torch.nn.modules.linear.Linear'>.\n"
     ]
    },
    {
     "name": "stderr",
     "output_type": "stream",
     "text": [
      " 90%|██████████████████████████████████████████████████████████████████████████████████████████████████████████████████████▎            | 215/238 [00:04<00:00, 46.55it/s]"
     ]
    },
    {
     "name": "stdout",
     "output_type": "stream",
     "text": [
      "3658994816.0 1874176.0\n",
      "cuda:0\n",
      "[INFO] Register count_linear() for <class 'torch.nn.modules.linear.Linear'>.\n",
      "3600509184.0 1874176.0\n",
      "cuda:0\n",
      "[INFO] Register count_linear() for <class 'torch.nn.modules.linear.Linear'>.\n",
      "3677381376.0 1874176.0\n",
      "cuda:0\n",
      "[INFO] Register count_linear() for <class 'torch.nn.modules.linear.Linear'>.\n",
      "3620563968.0 1874176.0\n",
      "cuda:0\n",
      "[INFO] Register count_linear() for <class 'torch.nn.modules.linear.Linear'>.\n",
      "3587703296.0 1874176.0\n",
      "cuda:0\n",
      "[INFO] Register count_linear() for <class 'torch.nn.modules.linear.Linear'>.\n",
      "3731770880.0 1874176.0\n",
      "cuda:0\n",
      "[INFO] Register count_linear() for <class 'torch.nn.modules.linear.Linear'>.\n",
      "3664162176.0 1874176.0\n",
      "cuda:0\n",
      "[INFO] Register count_linear() for <class 'torch.nn.modules.linear.Linear'>.\n",
      "3718907904.0 1874176.0\n",
      "cuda:0\n",
      "[INFO] Register count_linear() for <class 'torch.nn.modules.linear.Linear'>.\n",
      "3647154560.0 1874176.0\n",
      "cuda:0\n",
      "[INFO] Register count_linear() for <class 'torch.nn.modules.linear.Linear'>.\n",
      "3576665984.0 1874176.0\n",
      "cuda:0\n",
      "[INFO] Register count_linear() for <class 'torch.nn.modules.linear.Linear'>.\n"
     ]
    },
    {
     "name": "stderr",
     "output_type": "stream",
     "text": [
      " 95%|███████████████████████████████████████████████████████████████████████████████████████████████████████████████████████████▊       | 225/238 [00:04<00:00, 46.54it/s]"
     ]
    },
    {
     "name": "stdout",
     "output_type": "stream",
     "text": [
      "3683891584.0 1874176.0\n",
      "cuda:0\n",
      "[INFO] Register count_linear() for <class 'torch.nn.modules.linear.Linear'>.\n",
      "3537741824.0 1874176.0\n",
      "cuda:0\n",
      "[INFO] Register count_linear() for <class 'torch.nn.modules.linear.Linear'>.\n",
      "3704602368.0 1874176.0\n",
      "cuda:0\n",
      "[INFO] Register count_linear() for <class 'torch.nn.modules.linear.Linear'>.\n",
      "3573172096.0 1874176.0\n",
      "cuda:0\n",
      "[INFO] Register count_linear() for <class 'torch.nn.modules.linear.Linear'>.\n",
      "3559208320.0 1874176.0\n",
      "cuda:0\n",
      "[INFO] Register count_linear() for <class 'torch.nn.modules.linear.Linear'>.\n",
      "3632723712.0 1874176.0\n",
      "cuda:0\n",
      "[INFO] Register count_linear() for <class 'torch.nn.modules.linear.Linear'>.\n",
      "3630693376.0 1874176.0\n",
      "cuda:0\n",
      "[INFO] Register count_linear() for <class 'torch.nn.modules.linear.Linear'>.\n",
      "3609184896.0 1874176.0\n",
      "cuda:0\n",
      "[INFO] Register count_linear() for <class 'torch.nn.modules.linear.Linear'>.\n",
      "3683324800.0 1874176.0\n",
      "cuda:0\n",
      "[INFO] Register count_linear() for <class 'torch.nn.modules.linear.Linear'>.\n",
      "3604327808.0 1874176.0\n",
      "cuda:0\n",
      "[INFO] Register count_linear() for <class 'torch.nn.modules.linear.Linear'>.\n"
     ]
    },
    {
     "name": "stderr",
     "output_type": "stream",
     "text": [
      "100%|███████████████████████████████████████████████████████████████████████████████████████████████████████████████████████████████████| 238/238 [00:05<00:00, 46.36it/s]"
     ]
    },
    {
     "name": "stdout",
     "output_type": "stream",
     "text": [
      "3574840960.0 1874176.0\n",
      "cuda:0\n",
      "[INFO] Register count_linear() for <class 'torch.nn.modules.linear.Linear'>.\n",
      "3620752256.0 1874176.0\n",
      "cuda:0\n",
      "[INFO] Register count_linear() for <class 'torch.nn.modules.linear.Linear'>.\n",
      "3638132480.0 1874176.0\n",
      "cuda:0\n",
      "[INFO] Register count_linear() for <class 'torch.nn.modules.linear.Linear'>.\n",
      "3600907392.0 1874176.0\n",
      "cuda:0\n",
      "[INFO] Register count_linear() for <class 'torch.nn.modules.linear.Linear'>.\n",
      "3598824576.0 1874176.0\n",
      "cuda:0\n",
      "[INFO] Register count_linear() for <class 'torch.nn.modules.linear.Linear'>.\n",
      "3706611072.0 1874176.0\n",
      "cuda:0\n",
      "[INFO] Register count_linear() for <class 'torch.nn.modules.linear.Linear'>.\n",
      "3645927168.0 1874176.0\n",
      "cuda:0\n",
      "[INFO] Register count_linear() for <class 'torch.nn.modules.linear.Linear'>.\n",
      "3604500992.0 1874176.0\n",
      "cuda:0\n",
      "[INFO] Register count_linear() for <class 'torch.nn.modules.linear.Linear'>.\n",
      "3622425728.0 1874176.0\n",
      "cuda:0\n",
      "[INFO] Register count_linear() for <class 'torch.nn.modules.linear.Linear'>.\n",
      "1784372352.0 1874176.0\n"
     ]
    },
    {
     "name": "stderr",
     "output_type": "stream",
     "text": [
      "\n"
     ]
    }
   ],
   "source": [
    "from torch_geometric.data import DataLoader\n",
    "from tqdm import tqdm\n",
    "from thop import profile\n",
    "\n",
    "dataset = Tobermorite(root='dataset/', name='tob11')\n",
    "\n",
    "split_idx = dataset.get_idx_split(len(dataset.data.y), train_size=950, valid_size=50, seed=seed)\n",
    "\n",
    "train_dataset, valid_dataset, test_dataset = dataset[split_idx['train']], dataset[split_idx['valid']], dataset[split_idx['test']]\n",
    "print('train, validaion, test:', len(train_dataset), len(valid_dataset), len(test_dataset))\n",
    "\n",
    "loss_func = torch.nn.L1Loss()\n",
    "evaluation = ThreeDEvaluator()\n",
    "\n",
    "train_loader = DataLoader(train_dataset, 4, shuffle=True)\n",
    "for step, batch_data in enumerate(tqdm(train_loader)):\n",
    "    print(device)\n",
    "    batch_data = batch_data.to(device)\n",
    "    inputs = batch_data\n",
    "    model = model_dime.to(device)\n",
    "    flops,params=profile(model,(inputs, ))\n",
    "    print(flops,params)\n",
    "    break"
   ]
  },
  {
   "cell_type": "markdown",
   "id": "124adf50-1cfc-4017-bd2f-0271d5bbc4e6",
   "metadata": {},
   "source": [
    "## tob9"
   ]
  },
  {
   "cell_type": "code",
   "execution_count": 28,
   "id": "ec5132a0-9966-49bc-aca1-d54b8aab27ab",
   "metadata": {},
   "outputs": [
    {
     "name": "stdout",
     "output_type": "stream",
     "text": [
      "train, validaion, test: 950 50 6000\n"
     ]
    },
    {
     "name": "stderr",
     "output_type": "stream",
     "text": [
      "  0%|                                                                                                                                             | 0/238 [00:00<?, ?it/s]"
     ]
    },
    {
     "name": "stdout",
     "output_type": "stream",
     "text": [
      "cuda:0\n",
      "[INFO] Register count_linear() for <class 'torch.nn.modules.linear.Linear'>.\n",
      "4284177536.0 1877952.0\n"
     ]
    },
    {
     "name": "stderr",
     "output_type": "stream",
     "text": [
      "\n"
     ]
    }
   ],
   "source": [
    "from torch_geometric.data import DataLoader\n",
    "from tqdm import tqdm\n",
    "from thop import profile\n",
    "\n",
    "dataset = Tobermorite(root='dataset/', name='tob14')\n",
    "\n",
    "split_idx = dataset.get_idx_split(len(dataset.data.y), train_size=950, valid_size=50, seed=seed)\n",
    "\n",
    "train_dataset, valid_dataset, test_dataset = dataset[split_idx['train']], dataset[split_idx['valid']], dataset[split_idx['test']]\n",
    "print('train, validaion, test:', len(train_dataset), len(valid_dataset), len(test_dataset))\n",
    "\n",
    "loss_func = torch.nn.L1Loss()\n",
    "evaluation = ThreeDEvaluator()\n",
    "\n",
    "train_loader = DataLoader(train_dataset, 4, shuffle=True)\n",
    "for step, batch_data in enumerate(tqdm(train_loader)):\n",
    "    print(device)\n",
    "    batch_data = batch_data.to(device)\n",
    "    inputs = batch_data\n",
    "    model = model_sphere.to(device)\n",
    "    flops,params=profile(model,(inputs, ))\n",
    "    print(flops,params)\n",
    "    break"
   ]
  }
 ],
 "metadata": {
  "kernelspec": {
   "display_name": "spherenet",
   "language": "python",
   "name": "spherenet"
  },
  "language_info": {
   "codemirror_mode": {
    "name": "ipython",
    "version": 3
   },
   "file_extension": ".py",
   "mimetype": "text/x-python",
   "name": "python",
   "nbconvert_exporter": "python",
   "pygments_lexer": "ipython3",
   "version": "3.10.14"
  }
 },
 "nbformat": 4,
 "nbformat_minor": 5
}
