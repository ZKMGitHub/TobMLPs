{
 "cells": [
  {
   "cell_type": "code",
   "execution_count": 1,
   "id": "5845314f-1b72-4c93-867b-a3d84a143326",
   "metadata": {},
   "outputs": [],
   "source": [
    "import numpy as np\n",
    "\n",
    "def npz_trans(npz_name, output_path):\n",
    "    p = np.load(npz_name)\n",
    "    \n",
    "    E = []\n",
    "    for E_ele in p['E'][:,0]:\n",
    "        E.append(E_ele)\n",
    "    E = np.array(E)\n",
    "    \n",
    "    n = len(p['E'])\n",
    "    n_atoms = len(p['F'][0])\n",
    "    \n",
    "    F = []\n",
    "    for F_ele in p['F']:\n",
    "        for F_xyz in F_ele:\n",
    "            F.append(F_xyz)\n",
    "    F = np.array(F)\n",
    "\n",
    "    R = []\n",
    "    for R_ele in p['R']:\n",
    "        for R_xyz in R_ele:\n",
    "            R.append(R_xyz)\n",
    "    R = np.array(R)\n",
    "\n",
    "    Z = []\n",
    "    for i in np.arange(n):\n",
    "        for z in p['z']:\n",
    "            Z.append(z)\n",
    "    Z = np.array(Z)\n",
    "    \n",
    "    cell = p['cell']\n",
    "    pbc = p['pbc']\n",
    "\n",
    "    id = np.arange(n)\n",
    "\n",
    "    N = []\n",
    "    for i in id:\n",
    "        N.append(n_atoms)\n",
    "    N = np.array(N)\n",
    "\n",
    "    np.savez_compressed(output_path, id = id, N = N, E = E, Z = Z, R = R, F = F,)"
   ]
  },
  {
   "cell_type": "code",
   "execution_count": 2,
   "id": "2b521665-9082-43cf-ac96-165e4e8a0548",
   "metadata": {},
   "outputs": [],
   "source": [
    "npz_name = 'data/tob9.npz'\n",
    "output_path = 'data/tob9_gemnet.npz'\n",
    "\n",
    "npz_trans(npz_name, output_path)"
   ]
  }
 ],
 "metadata": {
  "kernelspec": {
   "display_name": "gemnet",
   "language": "python",
   "name": "gemnet"
  },
  "language_info": {
   "codemirror_mode": {
    "name": "ipython",
    "version": 3
   },
   "file_extension": ".py",
   "mimetype": "text/x-python",
   "name": "python",
   "nbconvert_exporter": "python",
   "pygments_lexer": "ipython3",
   "version": "3.10.14"
  }
 },
 "nbformat": 4,
 "nbformat_minor": 5
}
